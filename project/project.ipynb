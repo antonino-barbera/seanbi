{
 "cells": [
  {
   "cell_type": "markdown",
   "metadata": {
    "collapsed": true
   },
   "source": [
    "# Patents Citations"
   ]
  },
  {
   "cell_type": "markdown",
   "metadata": {},
   "source": [
    "We will analyse data which comprise detail information on almost 3 million U.S. patents granted between January 1963 and December 1999. The patent dataset is maintained by the National Bureau of Economic Research (NBER). We downloaded them at the following link: http://www.nber.org/patents/"
   ]
  },
  {
   "cell_type": "markdown",
   "metadata": {},
   "source": [
    "The data are in 5 zipped SAS \"transport format\" files as follows:\n",
    "\n",
    "* Pat63_99.zip contains the patent data, including the constructed variables\n",
    "* Coname.zip contains the assignee names.\n",
    "* Match.zip contains the match to CUSIP numbers\n",
    "* Inventor.zip contains the individual inventor records\n",
    "* Cite75_99.zip contains the pairwise citations data, between 1975 and 1999.\n",
    "\n",
    "Each of these files has a corresponding \"txt\" file that contains the variable names and other documentation.\n",
    "\n",
    "These data are described in detail in NBER Working Paper No. XXXX, \"The NBER Patent Citations Data File:  Lessons, Insights and Methodological Tools,\" by Bronwyn H. Hall, Adam B. Jaffe and Manuel Trajtenberg.\n"
   ]
  },
  {
   "cell_type": "code",
   "execution_count": 1,
   "metadata": {},
   "outputs": [],
   "source": [
    "import pandas as pd\n",
    "import matplotlib.pyplot as plt\n",
    "%matplotlib inline\n",
    "import seaborn as sbn"
   ]
  },
  {
   "cell_type": "markdown",
   "metadata": {},
   "source": [
    "### Pat63_99 file"
   ]
  },
  {
   "cell_type": "code",
   "execution_count": 3,
   "metadata": {},
   "outputs": [
    {
     "ename": "ParserError",
     "evalue": "Error tokenizing data. C error: Expected 20 fields in line 5, saw 293\n",
     "output_type": "error",
     "traceback": [
      "\u001b[0;31m---------------------------------------------------------------------------\u001b[0m",
      "\u001b[0;31mParserError\u001b[0m                               Traceback (most recent call last)",
      "\u001b[0;32m<ipython-input-3-0d7da17e20f7>\u001b[0m in \u001b[0;36m<module>\u001b[0;34m()\u001b[0m\n\u001b[0;32m----> 1\u001b[0;31m \u001b[0mdf\u001b[0m \u001b[0;34m=\u001b[0m \u001b[0mpd\u001b[0m\u001b[0;34m.\u001b[0m\u001b[0mread_csv\u001b[0m\u001b[0;34m(\u001b[0m\u001b[0;34m'https://drive.google.com/file/d/1OYvsR--VND1SI-ca_OxKwzj6qCE1HWIw/view?usp=sharing'\u001b[0m\u001b[0;34m)\u001b[0m\u001b[0;34m\u001b[0m\u001b[0m\n\u001b[0m\u001b[1;32m      2\u001b[0m \u001b[0mprint\u001b[0m \u001b[0;34m(\u001b[0m\u001b[0;34m\"lenght: \"\u001b[0m\u001b[0;34m,\u001b[0m\u001b[0mlen\u001b[0m\u001b[0;34m(\u001b[0m\u001b[0mdf\u001b[0m\u001b[0;34m)\u001b[0m\u001b[0;34m)\u001b[0m\u001b[0;34m\u001b[0m\u001b[0m\n\u001b[1;32m      3\u001b[0m \u001b[0mdf\u001b[0m\u001b[0;34m.\u001b[0m\u001b[0mhead\u001b[0m\u001b[0;34m(\u001b[0m\u001b[0;34m)\u001b[0m\u001b[0;34m\u001b[0m\u001b[0m\n",
      "\u001b[0;32m~/anaconda/envs/ada/lib/python3.6/site-packages/pandas/io/parsers.py\u001b[0m in \u001b[0;36mparser_f\u001b[0;34m(filepath_or_buffer, sep, delimiter, header, names, index_col, usecols, squeeze, prefix, mangle_dupe_cols, dtype, engine, converters, true_values, false_values, skipinitialspace, skiprows, nrows, na_values, keep_default_na, na_filter, verbose, skip_blank_lines, parse_dates, infer_datetime_format, keep_date_col, date_parser, dayfirst, iterator, chunksize, compression, thousands, decimal, lineterminator, quotechar, quoting, escapechar, comment, encoding, dialect, tupleize_cols, error_bad_lines, warn_bad_lines, skipfooter, skip_footer, doublequote, delim_whitespace, as_recarray, compact_ints, use_unsigned, low_memory, buffer_lines, memory_map, float_precision)\u001b[0m\n\u001b[1;32m    653\u001b[0m                     skip_blank_lines=skip_blank_lines)\n\u001b[1;32m    654\u001b[0m \u001b[0;34m\u001b[0m\u001b[0m\n\u001b[0;32m--> 655\u001b[0;31m         \u001b[0;32mreturn\u001b[0m \u001b[0m_read\u001b[0m\u001b[0;34m(\u001b[0m\u001b[0mfilepath_or_buffer\u001b[0m\u001b[0;34m,\u001b[0m \u001b[0mkwds\u001b[0m\u001b[0;34m)\u001b[0m\u001b[0;34m\u001b[0m\u001b[0m\n\u001b[0m\u001b[1;32m    656\u001b[0m \u001b[0;34m\u001b[0m\u001b[0m\n\u001b[1;32m    657\u001b[0m     \u001b[0mparser_f\u001b[0m\u001b[0;34m.\u001b[0m\u001b[0m__name__\u001b[0m \u001b[0;34m=\u001b[0m \u001b[0mname\u001b[0m\u001b[0;34m\u001b[0m\u001b[0m\n",
      "\u001b[0;32m~/anaconda/envs/ada/lib/python3.6/site-packages/pandas/io/parsers.py\u001b[0m in \u001b[0;36m_read\u001b[0;34m(filepath_or_buffer, kwds)\u001b[0m\n\u001b[1;32m    409\u001b[0m \u001b[0;34m\u001b[0m\u001b[0m\n\u001b[1;32m    410\u001b[0m     \u001b[0;32mtry\u001b[0m\u001b[0;34m:\u001b[0m\u001b[0;34m\u001b[0m\u001b[0m\n\u001b[0;32m--> 411\u001b[0;31m         \u001b[0mdata\u001b[0m \u001b[0;34m=\u001b[0m \u001b[0mparser\u001b[0m\u001b[0;34m.\u001b[0m\u001b[0mread\u001b[0m\u001b[0;34m(\u001b[0m\u001b[0mnrows\u001b[0m\u001b[0;34m)\u001b[0m\u001b[0;34m\u001b[0m\u001b[0m\n\u001b[0m\u001b[1;32m    412\u001b[0m     \u001b[0;32mfinally\u001b[0m\u001b[0;34m:\u001b[0m\u001b[0;34m\u001b[0m\u001b[0m\n\u001b[1;32m    413\u001b[0m         \u001b[0mparser\u001b[0m\u001b[0;34m.\u001b[0m\u001b[0mclose\u001b[0m\u001b[0;34m(\u001b[0m\u001b[0;34m)\u001b[0m\u001b[0;34m\u001b[0m\u001b[0m\n",
      "\u001b[0;32m~/anaconda/envs/ada/lib/python3.6/site-packages/pandas/io/parsers.py\u001b[0m in \u001b[0;36mread\u001b[0;34m(self, nrows)\u001b[0m\n\u001b[1;32m   1003\u001b[0m                 \u001b[0;32mraise\u001b[0m \u001b[0mValueError\u001b[0m\u001b[0;34m(\u001b[0m\u001b[0;34m'skipfooter not supported for iteration'\u001b[0m\u001b[0;34m)\u001b[0m\u001b[0;34m\u001b[0m\u001b[0m\n\u001b[1;32m   1004\u001b[0m \u001b[0;34m\u001b[0m\u001b[0m\n\u001b[0;32m-> 1005\u001b[0;31m         \u001b[0mret\u001b[0m \u001b[0;34m=\u001b[0m \u001b[0mself\u001b[0m\u001b[0;34m.\u001b[0m\u001b[0m_engine\u001b[0m\u001b[0;34m.\u001b[0m\u001b[0mread\u001b[0m\u001b[0;34m(\u001b[0m\u001b[0mnrows\u001b[0m\u001b[0;34m)\u001b[0m\u001b[0;34m\u001b[0m\u001b[0m\n\u001b[0m\u001b[1;32m   1006\u001b[0m \u001b[0;34m\u001b[0m\u001b[0m\n\u001b[1;32m   1007\u001b[0m         \u001b[0;32mif\u001b[0m \u001b[0mself\u001b[0m\u001b[0;34m.\u001b[0m\u001b[0moptions\u001b[0m\u001b[0;34m.\u001b[0m\u001b[0mget\u001b[0m\u001b[0;34m(\u001b[0m\u001b[0;34m'as_recarray'\u001b[0m\u001b[0;34m)\u001b[0m\u001b[0;34m:\u001b[0m\u001b[0;34m\u001b[0m\u001b[0m\n",
      "\u001b[0;32m~/anaconda/envs/ada/lib/python3.6/site-packages/pandas/io/parsers.py\u001b[0m in \u001b[0;36mread\u001b[0;34m(self, nrows)\u001b[0m\n\u001b[1;32m   1746\u001b[0m     \u001b[0;32mdef\u001b[0m \u001b[0mread\u001b[0m\u001b[0;34m(\u001b[0m\u001b[0mself\u001b[0m\u001b[0;34m,\u001b[0m \u001b[0mnrows\u001b[0m\u001b[0;34m=\u001b[0m\u001b[0;32mNone\u001b[0m\u001b[0;34m)\u001b[0m\u001b[0;34m:\u001b[0m\u001b[0;34m\u001b[0m\u001b[0m\n\u001b[1;32m   1747\u001b[0m         \u001b[0;32mtry\u001b[0m\u001b[0;34m:\u001b[0m\u001b[0;34m\u001b[0m\u001b[0m\n\u001b[0;32m-> 1748\u001b[0;31m             \u001b[0mdata\u001b[0m \u001b[0;34m=\u001b[0m \u001b[0mself\u001b[0m\u001b[0;34m.\u001b[0m\u001b[0m_reader\u001b[0m\u001b[0;34m.\u001b[0m\u001b[0mread\u001b[0m\u001b[0;34m(\u001b[0m\u001b[0mnrows\u001b[0m\u001b[0;34m)\u001b[0m\u001b[0;34m\u001b[0m\u001b[0m\n\u001b[0m\u001b[1;32m   1749\u001b[0m         \u001b[0;32mexcept\u001b[0m \u001b[0mStopIteration\u001b[0m\u001b[0;34m:\u001b[0m\u001b[0;34m\u001b[0m\u001b[0m\n\u001b[1;32m   1750\u001b[0m             \u001b[0;32mif\u001b[0m \u001b[0mself\u001b[0m\u001b[0;34m.\u001b[0m\u001b[0m_first_chunk\u001b[0m\u001b[0;34m:\u001b[0m\u001b[0;34m\u001b[0m\u001b[0m\n",
      "\u001b[0;32mpandas/_libs/parsers.pyx\u001b[0m in \u001b[0;36mpandas._libs.parsers.TextReader.read (pandas/_libs/parsers.c:10862)\u001b[0;34m()\u001b[0m\n",
      "\u001b[0;32mpandas/_libs/parsers.pyx\u001b[0m in \u001b[0;36mpandas._libs.parsers.TextReader._read_low_memory (pandas/_libs/parsers.c:11138)\u001b[0;34m()\u001b[0m\n",
      "\u001b[0;32mpandas/_libs/parsers.pyx\u001b[0m in \u001b[0;36mpandas._libs.parsers.TextReader._read_rows (pandas/_libs/parsers.c:11884)\u001b[0;34m()\u001b[0m\n",
      "\u001b[0;32mpandas/_libs/parsers.pyx\u001b[0m in \u001b[0;36mpandas._libs.parsers.TextReader._tokenize_rows (pandas/_libs/parsers.c:11755)\u001b[0;34m()\u001b[0m\n",
      "\u001b[0;32mpandas/_libs/parsers.pyx\u001b[0m in \u001b[0;36mpandas._libs.parsers.raise_parser_error (pandas/_libs/parsers.c:28765)\u001b[0;34m()\u001b[0m\n",
      "\u001b[0;31mParserError\u001b[0m: Error tokenizing data. C error: Expected 20 fields in line 5, saw 293\n"
     ]
    }
   ],
   "source": [
    "df = pd.read_csv('https://drive.google.com/file/d/1OYvsR--VND1SI-ca_OxKwzj6qCE1HWIw/view?usp=sharing')\n",
    "print (\"lenght: \",len(df))\n",
    "df.head()"
   ]
  },
  {
   "cell_type": "markdown",
   "metadata": {},
   "source": [
    "The Pat63_99 file is sorted by ascending patent number. <br>\n",
    "**There are 23 variables, which represent the following characteristics:**\n",
    "\n",
    "    patent: Patent Number\n",
    "    gyear: Grant Year\n",
    "    gdate: Grant Date\n",
    "    appyear: Application Year\n",
    "    country: Country of First Inventor\n",
    "    postate: State of First Inventor (if US)\n",
    "    assignee: Assignee Identifier (missing 1963-1967)\n",
    "    asscode: Assignee Type (see below)\n",
    "    claims: number of Claims\n",
    "    nclass: Main Patent Class (3 digit)\n",
    "    cat: Technological Category\n",
    "    subcat: Technological Sub-Category\n",
    "    cmade: Number of Citations Made\n",
    "    creceive: Number of Citations Received\n",
    "    ratiocit: Percent of Citations Made to Patents Granted Since 1963\n",
    "    general: Measure of Generality\n",
    "    original: Measure of Originality\n",
    "    fwdaplag: Mean Forward Citation Lag\n",
    "    bckgtlag: Mean Backward Citation Lag\n",
    "    selfctub: Share of Self-Citations Made - Upper Bound\n",
    "    selfctlb: Share of Self-Citations Made - Lower Bound\n",
    "    secdupbd: Share of Self-Citations Received - Upper Bound\n",
    "    secdlwbd: Share of Self-Citations Received - Lower Bound"
   ]
  },
  {
   "cell_type": "markdown",
   "metadata": {},
   "source": [
    "More useful information about the variables:\n",
    "------------------\n",
    "1. The State/Country Code is a three-character code. A list of corresponding state and country\n",
    "   names is included in the list_countries file in nber page. These codes are present for all patents in the file \n",
    "   (1963-1999).\n",
    "2. The Assignee Identifier can be converted to the company name using the Coname file, \n",
    "   Assignee Identifier is available for patents granted since 1969. \n",
    "3. The Assignee type code is a one-character code having the following meaning:\n",
    "\n",
    "     1    = unassigned\n",
    "     2    = assigned to a U.S. nongovernment organization\n",
    "     3    = assigned to a non-U.S., nongovernment organization\n",
    "     4    = assigned to a U.S. individual\n",
    "     5    = assigned to a non-U.S. individual\n",
    "     6    = assigned to the U.S. (Federal) Government\n",
    "     7    = assigned to a non-U.S. government\n",
    "     8,9  = assigned to a U.S. non-Federal Government agency (do not appear in the dataset)\n",
    "                 \n",
    "4. The upper and lower bound for self-citations, together with the number of citations received,\n",
    "   allow to compute the number of citations received having an assignee identifier (same for \n",
    "   citations made).\n",
    "5. The application year is available for patents granted since 1967.\n",
    "6. The number of claims is available for patents granted since 1975.\n",
    "7. Grant Date is the number of days elapsed since 1.1.1960.\n",
    "8. Main Patent Class list, as provided by the USPTO, is given in the attached Class file."
   ]
  },
  {
   "cell_type": "code",
   "execution_count": 8,
   "metadata": {
    "scrolled": false
   },
   "outputs": [
    {
     "name": "stdout",
     "output_type": "stream",
     "text": [
      "PATENT      2923922\n",
      "GYEAR       2923922\n",
      "GDATE       2923922\n",
      "APPYEAR     2699606\n",
      "COUNTRY     2923922\n",
      "POSTATE     1784989\n",
      "ASSIGNEE    2089903\n",
      "ASSCODE     2923922\n",
      "CLAIMS      1984055\n",
      "NCLASS      2923922\n",
      "CAT         2923922\n",
      "SUBCAT      2923922\n",
      "CMADE       2139314\n",
      "CRECEIVE    2923922\n",
      "RATIOCIT    2088795\n",
      "GENERAL     2240348\n",
      "ORIGINAL    2042151\n",
      "FWDAPLAG    2074641\n",
      "BCKGTLAG    2088785\n",
      "SELFCTUB    1703004\n",
      "SELFCTLB    1703004\n",
      "SECDUPBD    1599160\n",
      "SECDLWBD    1599160\n",
      "dtype: int64\n"
     ]
    }
   ],
   "source": [
    "num_valid_entries_per_column = df.count(axis=0)\n",
    "print (num_valid_entries_per_column)"
   ]
  },
  {
   "cell_type": "code",
   "execution_count": 12,
   "metadata": {},
   "outputs": [
    {
     "name": "stdout",
     "output_type": "stream",
     "text": [
      "(675937, 23)\n"
     ]
    }
   ],
   "source": [
    "clean_df = df.dropna(axis=0, how='any')\n",
    "print (clean_df.shape)"
   ]
  },
  {
   "cell_type": "markdown",
   "metadata": {},
   "source": [
    "### Coname file"
   ]
  },
  {
   "cell_type": "markdown",
   "metadata": {},
   "source": [
    "The Coname file lists company names and associated assignee identifier. **The variables are 2:**\n",
    "\n",
    "    assignee: Assignee Identifier\n",
    "    compname: Full Assignee Name"
   ]
  },
  {
   "cell_type": "code",
   "execution_count": 19,
   "metadata": {},
   "outputs": [
    {
     "name": "stdout",
     "output_type": "stream",
     "text": [
      "lenght:  175115\n"
     ]
    },
    {
     "data": {
      "text/html": [
       "<div>\n",
       "<style>\n",
       "    .dataframe thead tr:only-child th {\n",
       "        text-align: right;\n",
       "    }\n",
       "\n",
       "    .dataframe thead th {\n",
       "        text-align: left;\n",
       "    }\n",
       "\n",
       "    .dataframe tbody tr th {\n",
       "        vertical-align: top;\n",
       "    }\n",
       "</style>\n",
       "<table border=\"1\" class=\"dataframe\">\n",
       "  <thead>\n",
       "    <tr style=\"text-align: right;\">\n",
       "      <th></th>\n",
       "      <th>ASSIGNEE</th>\n",
       "      <th>COMPNAME</th>\n",
       "    </tr>\n",
       "  </thead>\n",
       "  <tbody>\n",
       "    <tr>\n",
       "      <th>0</th>\n",
       "      <td>5</td>\n",
       "      <td>AAA ASSOCIATES, INC.</td>\n",
       "    </tr>\n",
       "    <tr>\n",
       "      <th>1</th>\n",
       "      <td>10</td>\n",
       "      <td>AAA OFFICE COFFEE SERVICE, INC.</td>\n",
       "    </tr>\n",
       "    <tr>\n",
       "      <th>2</th>\n",
       "      <td>15</td>\n",
       "      <td>AAA PIPE CLEANING CORPORATION</td>\n",
       "    </tr>\n",
       "    <tr>\n",
       "      <th>3</th>\n",
       "      <td>20</td>\n",
       "      <td>AAA PRODUCTS INTERNATIONAL INC.</td>\n",
       "    </tr>\n",
       "    <tr>\n",
       "      <th>4</th>\n",
       "      <td>25</td>\n",
       "      <td>AAA SALES &amp; ENGINEERING, INC.</td>\n",
       "    </tr>\n",
       "  </tbody>\n",
       "</table>\n",
       "</div>"
      ],
      "text/plain": [
       "   ASSIGNEE                         COMPNAME\n",
       "0         5             AAA ASSOCIATES, INC.\n",
       "1        10  AAA OFFICE COFFEE SERVICE, INC.\n",
       "2        15    AAA PIPE CLEANING CORPORATION\n",
       "3        20  AAA PRODUCTS INTERNATIONAL INC.\n",
       "4        25    AAA SALES & ENGINEERING, INC."
      ]
     },
     "execution_count": 19,
     "metadata": {},
     "output_type": "execute_result"
    }
   ],
   "source": [
    "coname = pd.read_csv('coname.csv')\n",
    "print (\"lenght: \",len(coname))\n",
    "coname.head()"
   ]
  },
  {
   "cell_type": "markdown",
   "metadata": {},
   "source": [
    "The Coname file is sorted by ascending Assignee Identifier. The Coname\n",
    "file is NOT sorted alphabetically (some portions of the file,\n",
    "however, may appear to be in alphabetical order). \n",
    "\n",
    "A Note about TAF Company Codes and Company Names:  TAF Company\n",
    "Codes are used to identify organizational names in the TAF database. \n",
    "These codes do not appear in other PTO databases,\n",
    "such as the Automated Patent System.\n",
    "\n",
    "The Company Codes and Company Names that appear in Coname file are\n",
    "\"preferred\" codes and names.   Frequently, patents assigned to a\n",
    "given organization may show alternate spelling or syntax formats;\n",
    "for example, some patents assigned to International Business\n",
    "Machines Corp. may simply show IBM.  These alternate formats are\n",
    "mapped to a preferred format so that all patents assigned to a\n",
    "given organization  can be represented by a single code and name. \n",
    "The preferred Company Codes and Company Names that appear on the\n",
    "Coname file include all preferred codes and names that existed at\n",
    "the time the Coname file was produced.  It is possible that a\n",
    "preferred Company Code and Company Name that was in use at the time\n",
    "the Coname file was produced was not the same code and name that\n",
    "was in use at the time the patent was granted. "
   ]
  },
  {
   "cell_type": "markdown",
   "metadata": {},
   "source": [
    "### Match file"
   ]
  },
  {
   "cell_type": "markdown",
   "metadata": {},
   "source": [
    "The Compustat file lists company names and associated assignee identifier (from Pat63_99) \n",
    "and the matched Compustat identifier (CUSIP). The file provides the full name of\n",
    "the company as it appears in both the patent and Compustat data.\n",
    "The file also contains the name of the parent company and subsidiary \n",
    "company if such information exists."
   ]
  },
  {
   "cell_type": "code",
   "execution_count": 21,
   "metadata": {},
   "outputs": [
    {
     "name": "stdout",
     "output_type": "stream",
     "text": [
      "lenght:  4906\n"
     ]
    },
    {
     "data": {
      "text/html": [
       "<div>\n",
       "<style>\n",
       "    .dataframe thead tr:only-child th {\n",
       "        text-align: right;\n",
       "    }\n",
       "\n",
       "    .dataframe thead th {\n",
       "        text-align: left;\n",
       "    }\n",
       "\n",
       "    .dataframe tbody tr th {\n",
       "        vertical-align: top;\n",
       "    }\n",
       "</style>\n",
       "<table border=\"1\" class=\"dataframe\">\n",
       "  <thead>\n",
       "    <tr style=\"text-align: right;\">\n",
       "      <th></th>\n",
       "      <th>assignee</th>\n",
       "      <th>assname</th>\n",
       "      <th>cname</th>\n",
       "      <th>cusip</th>\n",
       "      <th>own</th>\n",
       "      <th>pname</th>\n",
       "      <th>sname</th>\n",
       "    </tr>\n",
       "  </thead>\n",
       "  <tbody>\n",
       "    <tr>\n",
       "      <th>0</th>\n",
       "      <td>105</td>\n",
       "      <td>AAI CORPORATION</td>\n",
       "      <td>UNITED INDUSTRIAL CORP</td>\n",
       "      <td>910671</td>\n",
       "      <td>NaN</td>\n",
       "      <td>NaN</td>\n",
       "      <td>NaN</td>\n",
       "    </tr>\n",
       "    <tr>\n",
       "      <th>1</th>\n",
       "      <td>220</td>\n",
       "      <td>AAR CORP</td>\n",
       "      <td>AAR CORP</td>\n",
       "      <td>000361</td>\n",
       "      <td>NaN</td>\n",
       "      <td>NaN</td>\n",
       "      <td>NaN</td>\n",
       "    </tr>\n",
       "    <tr>\n",
       "      <th>2</th>\n",
       "      <td>365</td>\n",
       "      <td>AB AG LABORATORIES LIMITED</td>\n",
       "      <td>DEL LABORATORIES INC</td>\n",
       "      <td>245091</td>\n",
       "      <td>NaN</td>\n",
       "      <td>NaN</td>\n",
       "      <td>NaN</td>\n",
       "    </tr>\n",
       "    <tr>\n",
       "      <th>3</th>\n",
       "      <td>735</td>\n",
       "      <td>ABBOTT LABORATORIES</td>\n",
       "      <td>ABBOTT LABORATORIES</td>\n",
       "      <td>002824</td>\n",
       "      <td>NaN</td>\n",
       "      <td>NaN</td>\n",
       "      <td>NaN</td>\n",
       "    </tr>\n",
       "    <tr>\n",
       "      <th>4</th>\n",
       "      <td>785</td>\n",
       "      <td>ABB POWER T  &amp;  D CPY     INC</td>\n",
       "      <td>WESTINGHOUSE ELECTRIC CORP</td>\n",
       "      <td>960402</td>\n",
       "      <td>55.0</td>\n",
       "      <td>WESTINGHOUSE ELECTRIC CORP</td>\n",
       "      <td>ABB POWER T &amp; D CO</td>\n",
       "    </tr>\n",
       "  </tbody>\n",
       "</table>\n",
       "</div>"
      ],
      "text/plain": [
       "   assignee                        assname                       cname  \\\n",
       "0       105                AAI CORPORATION      UNITED INDUSTRIAL CORP   \n",
       "1       220                       AAR CORP                    AAR CORP   \n",
       "2       365     AB AG LABORATORIES LIMITED        DEL LABORATORIES INC   \n",
       "3       735            ABBOTT LABORATORIES         ABBOTT LABORATORIES   \n",
       "4       785  ABB POWER T  &  D CPY     INC  WESTINGHOUSE ELECTRIC CORP   \n",
       "\n",
       "    cusip   own                       pname               sname  \n",
       "0  910671   NaN                         NaN                 NaN  \n",
       "1  000361   NaN                         NaN                 NaN  \n",
       "2  245091   NaN                         NaN                 NaN  \n",
       "3  002824   NaN                         NaN                 NaN  \n",
       "4  960402  55.0  WESTINGHOUSE ELECTRIC CORP  ABB POWER T & D CO  "
      ]
     },
     "execution_count": 21,
     "metadata": {},
     "output_type": "execute_result"
    }
   ],
   "source": [
    "match = pd.read_csv('match.csv')\n",
    "print (\"lenght: \",len(match))\n",
    "match.head()"
   ]
  },
  {
   "cell_type": "markdown",
   "metadata": {},
   "source": [
    "The Compustat file is sorted by ascending Assignee Identifier. <br>\n",
    "The Compustat file is NOT sorted alphabetically (some portions of the file,\n",
    "however, may appear to be in alphabetical order). <br>\n",
    "**There are 7 variables:**\n",
    "\n",
    "    assignee: Assignee Identifier\n",
    "    assname: Patent Assignee Name\n",
    "    pname: Parent Name\n",
    "    sname: Subsidiary Name\n",
    "    own: Percent of Ownership\n",
    "    cusip: Compustat CUSIP\n",
    "    cname: Compustat Name"
   ]
  },
  {
   "cell_type": "markdown",
   "metadata": {},
   "source": [
    "### Inventor file"
   ]
  },
  {
   "cell_type": "markdown",
   "metadata": {},
   "source": [
    "The Inventor file includes the patent number, inventor name, \n",
    "street address (if present on the patent record), city,\n",
    "state, country code, zip code (where available), and\n",
    "inventor sequence number of inventors listed on patents generally\n",
    "issued from January 1, 1975 to December 31, 1999. "
   ]
  },
  {
   "cell_type": "code",
   "execution_count": 22,
   "metadata": {},
   "outputs": [
    {
     "name": "stderr",
     "output_type": "stream",
     "text": [
      "/Users/antoninobarbera/anaconda/envs/ada/lib/python3.6/site-packages/IPython/core/interactiveshell.py:2728: DtypeWarning: Columns (9) have mixed types. Specify dtype option on import or set low_memory=False.\n",
      "  interactivity=interactivity, compiler=compiler, result=result)\n"
     ]
    },
    {
     "name": "stdout",
     "output_type": "stream",
     "text": [
      "lenght:  4301229\n"
     ]
    },
    {
     "data": {
      "text/html": [
       "<div>\n",
       "<style>\n",
       "    .dataframe thead tr:only-child th {\n",
       "        text-align: right;\n",
       "    }\n",
       "\n",
       "    .dataframe thead th {\n",
       "        text-align: left;\n",
       "    }\n",
       "\n",
       "    .dataframe tbody tr th {\n",
       "        vertical-align: top;\n",
       "    }\n",
       "</style>\n",
       "<table border=\"1\" class=\"dataframe\">\n",
       "  <thead>\n",
       "    <tr style=\"text-align: right;\">\n",
       "      <th></th>\n",
       "      <th>PATENT</th>\n",
       "      <th>LASTNAM</th>\n",
       "      <th>FIRSTNAM</th>\n",
       "      <th>MIDNAM</th>\n",
       "      <th>MODIFNAM</th>\n",
       "      <th>STREET</th>\n",
       "      <th>CITY</th>\n",
       "      <th>POSTATE</th>\n",
       "      <th>COUNTRY</th>\n",
       "      <th>ZIP</th>\n",
       "      <th>INVSEQ</th>\n",
       "    </tr>\n",
       "  </thead>\n",
       "  <tbody>\n",
       "    <tr>\n",
       "      <th>0</th>\n",
       "      <td>3858241</td>\n",
       "      <td>Durand</td>\n",
       "      <td>Philip</td>\n",
       "      <td>E.</td>\n",
       "      <td>NaN</td>\n",
       "      <td>NaN</td>\n",
       "      <td>Hudson</td>\n",
       "      <td>MA</td>\n",
       "      <td>US</td>\n",
       "      <td>NaN</td>\n",
       "      <td>1</td>\n",
       "    </tr>\n",
       "    <tr>\n",
       "      <th>1</th>\n",
       "      <td>3858241</td>\n",
       "      <td>Norris</td>\n",
       "      <td>Lonnie</td>\n",
       "      <td>H.</td>\n",
       "      <td>NaN</td>\n",
       "      <td>NaN</td>\n",
       "      <td>Milford</td>\n",
       "      <td>MA</td>\n",
       "      <td>US</td>\n",
       "      <td>NaN</td>\n",
       "      <td>2</td>\n",
       "    </tr>\n",
       "    <tr>\n",
       "      <th>2</th>\n",
       "      <td>3858242</td>\n",
       "      <td>Gooding</td>\n",
       "      <td>Elwyn</td>\n",
       "      <td>R.</td>\n",
       "      <td>NaN</td>\n",
       "      <td>120 Darwin Rd.</td>\n",
       "      <td>Pinckney</td>\n",
       "      <td>MI</td>\n",
       "      <td>US</td>\n",
       "      <td>48169</td>\n",
       "      <td>1</td>\n",
       "    </tr>\n",
       "    <tr>\n",
       "      <th>3</th>\n",
       "      <td>3858243</td>\n",
       "      <td>Pierron</td>\n",
       "      <td>Claude</td>\n",
       "      <td>Raymond</td>\n",
       "      <td>NaN</td>\n",
       "      <td>NaN</td>\n",
       "      <td>Epinal</td>\n",
       "      <td>NaN</td>\n",
       "      <td>FR</td>\n",
       "      <td>NaN</td>\n",
       "      <td>1</td>\n",
       "    </tr>\n",
       "    <tr>\n",
       "      <th>4</th>\n",
       "      <td>3858243</td>\n",
       "      <td>Jenny</td>\n",
       "      <td>Jean</td>\n",
       "      <td>Paul</td>\n",
       "      <td>NaN</td>\n",
       "      <td>NaN</td>\n",
       "      <td>Decines</td>\n",
       "      <td>NaN</td>\n",
       "      <td>FR</td>\n",
       "      <td>NaN</td>\n",
       "      <td>2</td>\n",
       "    </tr>\n",
       "  </tbody>\n",
       "</table>\n",
       "</div>"
      ],
      "text/plain": [
       "    PATENT  LASTNAM FIRSTNAM   MIDNAM MODIFNAM          STREET      CITY  \\\n",
       "0  3858241   Durand   Philip       E.      NaN             NaN    Hudson   \n",
       "1  3858241   Norris   Lonnie       H.      NaN             NaN   Milford   \n",
       "2  3858242  Gooding    Elwyn       R.      NaN  120 Darwin Rd.  Pinckney   \n",
       "3  3858243  Pierron   Claude  Raymond      NaN             NaN    Epinal   \n",
       "4  3858243    Jenny     Jean     Paul      NaN             NaN   Decines   \n",
       "\n",
       "  POSTATE COUNTRY    ZIP  INVSEQ  \n",
       "0      MA      US    NaN       1  \n",
       "1      MA      US    NaN       2  \n",
       "2      MI      US  48169       1  \n",
       "3     NaN      FR    NaN       1  \n",
       "4     NaN      FR    NaN       2  "
      ]
     },
     "execution_count": 22,
     "metadata": {},
     "output_type": "execute_result"
    }
   ],
   "source": [
    "inventor = pd.read_csv('inventor.csv')\n",
    "print(\"lenght: \",len(inventor))\n",
    "inventor.head()"
   ]
  },
  {
   "cell_type": "markdown",
   "metadata": {},
   "source": [
    "The INVENTOR file is sorted by ascending patent number and the sequence \n",
    "in which the inventor name appeared on the printed patent. <br>\n",
    "**There are 12 variables:**\n",
    "\n",
    "    patent: Patent Number\n",
    "    lastnam: Last Name of Inventor\n",
    "    firstnam: First Name of Inventor\n",
    "    midnam: Middle Name of Inventor\n",
    "    modifnam: Surname Modifier (e.g.,\"Jr.\")\n",
    "    street: Street Address\n",
    "    city: City\n",
    "    postate: State Code\n",
    "    country: Country Code\n",
    "    zip: Zip Code\n",
    "    invseq: Inventor Sequence Number\n",
    "    street: Street Address"
   ]
  },
  {
   "cell_type": "markdown",
   "metadata": {},
   "source": [
    "The INVENTOR file is sorted by ascending patent number and the sequence \n",
    "in which the inventor name appeared on the printed patent.\n",
    "\n",
    "Street address data are blank where patent rights are assigned \n",
    "to an organization at the time of grant, as indicated on the front\n",
    "page of the patent. Since this file includes the patent number in \n",
    "each record (in addition to the inventor name and residence information), \n",
    "inventor name and residence information can be repeated in multiple \n",
    "records if those inventors are listed on more than one patent in the\n",
    "file."
   ]
  },
  {
   "cell_type": "markdown",
   "metadata": {},
   "source": [
    "### Cite75_99 File"
   ]
  },
  {
   "cell_type": "markdown",
   "metadata": {},
   "source": [
    "This file includes all US patent citations for utility patents \n",
    "granted in the period 1-Jan-75 to 31-Dec-99."
   ]
  },
  {
   "cell_type": "code",
   "execution_count": 23,
   "metadata": {},
   "outputs": [
    {
     "name": "stdout",
     "output_type": "stream",
     "text": [
      "lenght:  16522438\n"
     ]
    },
    {
     "data": {
      "text/html": [
       "<div>\n",
       "<style>\n",
       "    .dataframe thead tr:only-child th {\n",
       "        text-align: right;\n",
       "    }\n",
       "\n",
       "    .dataframe thead th {\n",
       "        text-align: left;\n",
       "    }\n",
       "\n",
       "    .dataframe tbody tr th {\n",
       "        vertical-align: top;\n",
       "    }\n",
       "</style>\n",
       "<table border=\"1\" class=\"dataframe\">\n",
       "  <thead>\n",
       "    <tr style=\"text-align: right;\">\n",
       "      <th></th>\n",
       "      <th>CITING</th>\n",
       "      <th>CITED</th>\n",
       "    </tr>\n",
       "  </thead>\n",
       "  <tbody>\n",
       "    <tr>\n",
       "      <th>0</th>\n",
       "      <td>3858241</td>\n",
       "      <td>956203</td>\n",
       "    </tr>\n",
       "    <tr>\n",
       "      <th>1</th>\n",
       "      <td>3858241</td>\n",
       "      <td>1324234</td>\n",
       "    </tr>\n",
       "    <tr>\n",
       "      <th>2</th>\n",
       "      <td>3858241</td>\n",
       "      <td>3398406</td>\n",
       "    </tr>\n",
       "    <tr>\n",
       "      <th>3</th>\n",
       "      <td>3858241</td>\n",
       "      <td>3557384</td>\n",
       "    </tr>\n",
       "    <tr>\n",
       "      <th>4</th>\n",
       "      <td>3858241</td>\n",
       "      <td>3634889</td>\n",
       "    </tr>\n",
       "  </tbody>\n",
       "</table>\n",
       "</div>"
      ],
      "text/plain": [
       "    CITING    CITED\n",
       "0  3858241   956203\n",
       "1  3858241  1324234\n",
       "2  3858241  3398406\n",
       "3  3858241  3557384\n",
       "4  3858241  3634889"
      ]
     },
     "execution_count": 23,
     "metadata": {},
     "output_type": "execute_result"
    }
   ],
   "source": [
    "cite = pd.read_csv('cite75_99.csv')\n",
    "print(\"lenght: \",len(cite))\n",
    "cite.head()"
   ]
  },
  {
   "cell_type": "markdown",
   "metadata": {},
   "source": [
    "The file is sorted by Citing Patent Number. <br>\n",
    "**There are 2 variables:**\n",
    "\n",
    "    citing: Citing Patent Number\n",
    "    cited: Cited Patent Number"
   ]
  },
  {
   "cell_type": "markdown",
   "metadata": {},
   "source": [
    "### In addition we have a US Patent citation network file from the Stanford University website: http://snap.stanford.edu/data/cit-Patents.html\n",
    "It provides a directed graph (each unordered pair of nodes is saved once), with 3774768 Nodes and 16518948 Edges.\n",
    "We load and explore it in order to understand if it's difference from the Cite75_99 file."
   ]
  },
  {
   "cell_type": "code",
   "execution_count": 28,
   "metadata": {},
   "outputs": [
    {
     "name": "stdout",
     "output_type": "stream",
     "text": [
      "lenght:  16518948\n"
     ]
    },
    {
     "data": {
      "text/html": [
       "<div>\n",
       "<style>\n",
       "    .dataframe thead tr:only-child th {\n",
       "        text-align: right;\n",
       "    }\n",
       "\n",
       "    .dataframe thead th {\n",
       "        text-align: left;\n",
       "    }\n",
       "\n",
       "    .dataframe tbody tr th {\n",
       "        vertical-align: top;\n",
       "    }\n",
       "</style>\n",
       "<table border=\"1\" class=\"dataframe\">\n",
       "  <thead>\n",
       "    <tr style=\"text-align: right;\">\n",
       "      <th></th>\n",
       "      <th>FromNodeId</th>\n",
       "      <th>ToNodeId</th>\n",
       "    </tr>\n",
       "  </thead>\n",
       "  <tbody>\n",
       "    <tr>\n",
       "      <th>0</th>\n",
       "      <td>3858241</td>\n",
       "      <td>956203</td>\n",
       "    </tr>\n",
       "    <tr>\n",
       "      <th>1</th>\n",
       "      <td>3858241</td>\n",
       "      <td>1324234</td>\n",
       "    </tr>\n",
       "    <tr>\n",
       "      <th>2</th>\n",
       "      <td>3858241</td>\n",
       "      <td>3398406</td>\n",
       "    </tr>\n",
       "    <tr>\n",
       "      <th>3</th>\n",
       "      <td>3858241</td>\n",
       "      <td>3557384</td>\n",
       "    </tr>\n",
       "    <tr>\n",
       "      <th>4</th>\n",
       "      <td>3858241</td>\n",
       "      <td>3634889</td>\n",
       "    </tr>\n",
       "  </tbody>\n",
       "</table>\n",
       "</div>"
      ],
      "text/plain": [
       "   FromNodeId  ToNodeId\n",
       "0     3858241    956203\n",
       "1     3858241   1324234\n",
       "2     3858241   3398406\n",
       "3     3858241   3557384\n",
       "4     3858241   3634889"
      ]
     },
     "execution_count": 28,
     "metadata": {},
     "output_type": "execute_result"
    }
   ],
   "source": [
    "citations = pd.read_csv('cit-Patents.txt', sep='\\t')\n",
    "print(\"lenght: \",len(citations))\n",
    "citations.head()"
   ]
  },
  {
   "cell_type": "code",
   "execution_count": 30,
   "metadata": {},
   "outputs": [
    {
     "data": {
      "text/html": [
       "<div>\n",
       "<style>\n",
       "    .dataframe thead tr:only-child th {\n",
       "        text-align: right;\n",
       "    }\n",
       "\n",
       "    .dataframe thead th {\n",
       "        text-align: left;\n",
       "    }\n",
       "\n",
       "    .dataframe tbody tr th {\n",
       "        vertical-align: top;\n",
       "    }\n",
       "</style>\n",
       "<table border=\"1\" class=\"dataframe\">\n",
       "  <thead>\n",
       "    <tr style=\"text-align: right;\">\n",
       "      <th></th>\n",
       "      <th>CITING</th>\n",
       "      <th>CITED</th>\n",
       "    </tr>\n",
       "  </thead>\n",
       "  <tbody>\n",
       "    <tr>\n",
       "      <th>16522433</th>\n",
       "      <td>6009554</td>\n",
       "      <td>4617662</td>\n",
       "    </tr>\n",
       "    <tr>\n",
       "      <th>16522434</th>\n",
       "      <td>6009554</td>\n",
       "      <td>4740972</td>\n",
       "    </tr>\n",
       "    <tr>\n",
       "      <th>16522435</th>\n",
       "      <td>6009554</td>\n",
       "      <td>4831521</td>\n",
       "    </tr>\n",
       "    <tr>\n",
       "      <th>16522436</th>\n",
       "      <td>6009554</td>\n",
       "      <td>5048064</td>\n",
       "    </tr>\n",
       "    <tr>\n",
       "      <th>16522437</th>\n",
       "      <td>6009554</td>\n",
       "      <td>5364047</td>\n",
       "    </tr>\n",
       "  </tbody>\n",
       "</table>\n",
       "</div>"
      ],
      "text/plain": [
       "           CITING    CITED\n",
       "16522433  6009554  4617662\n",
       "16522434  6009554  4740972\n",
       "16522435  6009554  4831521\n",
       "16522436  6009554  5048064\n",
       "16522437  6009554  5364047"
      ]
     },
     "execution_count": 30,
     "metadata": {},
     "output_type": "execute_result"
    }
   ],
   "source": [
    "cite.tail(5)"
   ]
  },
  {
   "cell_type": "code",
   "execution_count": 31,
   "metadata": {},
   "outputs": [
    {
     "data": {
      "text/html": [
       "<div>\n",
       "<style>\n",
       "    .dataframe thead tr:only-child th {\n",
       "        text-align: right;\n",
       "    }\n",
       "\n",
       "    .dataframe thead th {\n",
       "        text-align: left;\n",
       "    }\n",
       "\n",
       "    .dataframe tbody tr th {\n",
       "        vertical-align: top;\n",
       "    }\n",
       "</style>\n",
       "<table border=\"1\" class=\"dataframe\">\n",
       "  <thead>\n",
       "    <tr style=\"text-align: right;\">\n",
       "      <th></th>\n",
       "      <th>FromNodeId</th>\n",
       "      <th>ToNodeId</th>\n",
       "    </tr>\n",
       "  </thead>\n",
       "  <tbody>\n",
       "    <tr>\n",
       "      <th>16518943</th>\n",
       "      <td>6009554</td>\n",
       "      <td>4617662</td>\n",
       "    </tr>\n",
       "    <tr>\n",
       "      <th>16518944</th>\n",
       "      <td>6009554</td>\n",
       "      <td>4740972</td>\n",
       "    </tr>\n",
       "    <tr>\n",
       "      <th>16518945</th>\n",
       "      <td>6009554</td>\n",
       "      <td>4831521</td>\n",
       "    </tr>\n",
       "    <tr>\n",
       "      <th>16518946</th>\n",
       "      <td>6009554</td>\n",
       "      <td>5048064</td>\n",
       "    </tr>\n",
       "    <tr>\n",
       "      <th>16518947</th>\n",
       "      <td>6009554</td>\n",
       "      <td>5364047</td>\n",
       "    </tr>\n",
       "  </tbody>\n",
       "</table>\n",
       "</div>"
      ],
      "text/plain": [
       "          FromNodeId  ToNodeId\n",
       "16518943     6009554   4617662\n",
       "16518944     6009554   4740972\n",
       "16518945     6009554   4831521\n",
       "16518946     6009554   5048064\n",
       "16518947     6009554   5364047"
      ]
     },
     "execution_count": 31,
     "metadata": {},
     "output_type": "execute_result"
    }
   ],
   "source": [
    "citations.tail(5)"
   ]
  },
  {
   "cell_type": "code",
   "execution_count": 32,
   "metadata": {},
   "outputs": [
    {
     "data": {
      "text/plain": [
       "3490"
      ]
     },
     "execution_count": 32,
     "metadata": {},
     "output_type": "execute_result"
    }
   ],
   "source": [
    "len(cite) - len(citations)"
   ]
  },
  {
   "cell_type": "code",
   "execution_count": null,
   "metadata": {},
   "outputs": [],
   "source": []
  }
 ],
 "metadata": {
  "kernelspec": {
   "display_name": "Python [default]",
   "language": "python",
   "name": "python3"
  },
  "language_info": {
   "codemirror_mode": {
    "name": "ipython",
    "version": 3
   },
   "file_extension": ".py",
   "mimetype": "text/x-python",
   "name": "python",
   "nbconvert_exporter": "python",
   "pygments_lexer": "ipython3",
   "version": "3.6.2"
  }
 },
 "nbformat": 4,
 "nbformat_minor": 2
}
