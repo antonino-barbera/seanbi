{
 "cells": [
  {
   "cell_type": "code",
   "execution_count": 1,
   "metadata": {
    "collapsed": true
   },
   "outputs": [],
   "source": [
    "import requests\n",
    "from bs4 import BeautifulSoup\n",
    "import pandas as pd\n",
    "%matplotlib inline\n",
    "import seaborn as sbn"
   ]
  },
  {
   "cell_type": "code",
   "execution_count": 37,
   "metadata": {},
   "outputs": [],
   "source": [
    "url = 'http://www.patentsview.org/api/patents/query?q={\"_and\": [{\"_gte\":{\"patent_date\":\"1960-01-01\"}}]}&f=[\"patent_number\", \"patent_date\"]&o={\"per_page\": 25}'\n",
    "\n",
    "#get the data\n",
    "r = requests.get(url)\n",
    "\n",
    "#get first 200 universities\n",
    "data = r.json()"
   ]
  },
  {
   "cell_type": "code",
   "execution_count": 38,
   "metadata": {},
   "outputs": [
    {
     "data": {
      "text/plain": [
       "{'count': 25,\n",
       " 'patents': [{'patent_date': '1976-01-06', 'patent_number': '3930271'},\n",
       "  {'patent_date': '1976-01-06', 'patent_number': '3930272'},\n",
       "  {'patent_date': '1976-01-06', 'patent_number': '3930273'},\n",
       "  {'patent_date': '1976-01-06', 'patent_number': '3930274'},\n",
       "  {'patent_date': '1976-01-06', 'patent_number': '3930275'},\n",
       "  {'patent_date': '1976-01-06', 'patent_number': '3930276'},\n",
       "  {'patent_date': '1976-01-06', 'patent_number': '3930277'},\n",
       "  {'patent_date': '1976-01-06', 'patent_number': '3930278'},\n",
       "  {'patent_date': '1976-01-06', 'patent_number': '3930279'},\n",
       "  {'patent_date': '1976-01-06', 'patent_number': '3930280'},\n",
       "  {'patent_date': '1976-01-06', 'patent_number': '3930281'},\n",
       "  {'patent_date': '1976-01-06', 'patent_number': '3930282'},\n",
       "  {'patent_date': '1976-01-06', 'patent_number': '3930283'},\n",
       "  {'patent_date': '1976-01-06', 'patent_number': '3930284'},\n",
       "  {'patent_date': '1976-01-06', 'patent_number': '3930285'},\n",
       "  {'patent_date': '1976-01-06', 'patent_number': '3930286'},\n",
       "  {'patent_date': '1976-01-06', 'patent_number': '3930287'},\n",
       "  {'patent_date': '1976-01-06', 'patent_number': '3930288'},\n",
       "  {'patent_date': '1976-01-06', 'patent_number': '3930289'},\n",
       "  {'patent_date': '1976-01-06', 'patent_number': '3930290'},\n",
       "  {'patent_date': '1976-01-06', 'patent_number': '3930291'},\n",
       "  {'patent_date': '1976-01-06', 'patent_number': '3930292'},\n",
       "  {'patent_date': '1976-01-06', 'patent_number': '3930293'},\n",
       "  {'patent_date': '1976-01-06', 'patent_number': '3930294'},\n",
       "  {'patent_date': '1976-01-06', 'patent_number': '3930295'}],\n",
       " 'total_patent_count': 100000}"
      ]
     },
     "execution_count": 38,
     "metadata": {},
     "output_type": "execute_result"
    }
   ],
   "source": [
    "data"
   ]
  },
  {
   "cell_type": "code",
   "execution_count": null,
   "metadata": {
    "collapsed": true
   },
   "outputs": [],
   "source": []
  }
 ],
 "metadata": {
  "kernelspec": {
   "display_name": "Python 3",
   "language": "python",
   "name": "python3"
  },
  "language_info": {
   "codemirror_mode": {
    "name": "ipython",
    "version": 3
   },
   "file_extension": ".py",
   "mimetype": "text/x-python",
   "name": "python",
   "nbconvert_exporter": "python",
   "pygments_lexer": "ipython3",
   "version": "3.6.2"
  }
 },
 "nbformat": 4,
 "nbformat_minor": 2
}
