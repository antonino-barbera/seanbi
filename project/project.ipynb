{
 "cells": [
  {
   "cell_type": "markdown",
   "metadata": {
    "collapsed": true
   },
   "source": [
    "# Patents Citations"
   ]
  },
  {
   "cell_type": "markdown",
   "metadata": {},
   "source": [
    "We will analyse data which comprise detail information on almost 3 million U.S. patents granted between January 1963 and December 1999. The patent dataset is maintained by the National Bureau of Economic Research (NBER). We downloaded them at the following link: http://www.nber.org/patents/"
   ]
  },
  {
   "cell_type": "markdown",
   "metadata": {},
   "source": [
    "The data are in 5 zipped SAS \"transport format\" files as follows:\n",
    "\n",
    "* Pat63_99.zip contains the patent data, including the constructed variables\n",
    "* Coname.zip contains the assignee names.\n",
    "* Match.zip contains the match to CUSIP numbers\n",
    "* Inventor.zip contains the individual inventor records\n",
    "* Cite75_99.zip contains the pairwise citations data, between 1975 and 1999.\n",
    "\n",
    "Each of these files has a corresponding \"txt\" file that contains the variable names and other documentation.\n",
    "\n",
    "These data are described in detail in NBER Working Paper No. XXXX, \"The NBER Patent Citations Data File:  Lessons, Insights and Methodological Tools,\" by Bronwyn H. Hall, Adam B. Jaffe and Manuel Trajtenberg.\n"
   ]
  },
  {
   "cell_type": "code",
   "execution_count": 80,
   "metadata": {},
   "outputs": [],
   "source": [
    "import pandas as pd\n",
    "import matplotlib.pyplot as plt\n",
    "%matplotlib inline\n",
    "plt.style.use('bmh')\n",
    "import seaborn as sbn"
   ]
  },
  {
   "cell_type": "markdown",
   "metadata": {},
   "source": [
    "### Pat63_99 file"
   ]
  },
  {
   "cell_type": "code",
   "execution_count": 4,
   "metadata": {},
   "outputs": [
    {
     "name": "stdout",
     "output_type": "stream",
     "text": [
      "lenght:  2923922\n"
     ]
    },
    {
     "data": {
      "text/html": [
       "<div>\n",
       "<style>\n",
       "    .dataframe thead tr:only-child th {\n",
       "        text-align: right;\n",
       "    }\n",
       "\n",
       "    .dataframe thead th {\n",
       "        text-align: left;\n",
       "    }\n",
       "\n",
       "    .dataframe tbody tr th {\n",
       "        vertical-align: top;\n",
       "    }\n",
       "</style>\n",
       "<table border=\"1\" class=\"dataframe\">\n",
       "  <thead>\n",
       "    <tr style=\"text-align: right;\">\n",
       "      <th></th>\n",
       "      <th>PATENT</th>\n",
       "      <th>GYEAR</th>\n",
       "      <th>GDATE</th>\n",
       "      <th>APPYEAR</th>\n",
       "      <th>COUNTRY</th>\n",
       "      <th>POSTATE</th>\n",
       "      <th>ASSIGNEE</th>\n",
       "      <th>ASSCODE</th>\n",
       "      <th>CLAIMS</th>\n",
       "      <th>NCLASS</th>\n",
       "      <th>...</th>\n",
       "      <th>CRECEIVE</th>\n",
       "      <th>RATIOCIT</th>\n",
       "      <th>GENERAL</th>\n",
       "      <th>ORIGINAL</th>\n",
       "      <th>FWDAPLAG</th>\n",
       "      <th>BCKGTLAG</th>\n",
       "      <th>SELFCTUB</th>\n",
       "      <th>SELFCTLB</th>\n",
       "      <th>SECDUPBD</th>\n",
       "      <th>SECDLWBD</th>\n",
       "    </tr>\n",
       "  </thead>\n",
       "  <tbody>\n",
       "    <tr>\n",
       "      <th>0</th>\n",
       "      <td>3070801</td>\n",
       "      <td>1963</td>\n",
       "      <td>1096</td>\n",
       "      <td>NaN</td>\n",
       "      <td>BE</td>\n",
       "      <td>NaN</td>\n",
       "      <td>NaN</td>\n",
       "      <td>1</td>\n",
       "      <td>NaN</td>\n",
       "      <td>269</td>\n",
       "      <td>...</td>\n",
       "      <td>1</td>\n",
       "      <td>NaN</td>\n",
       "      <td>0.0000</td>\n",
       "      <td>NaN</td>\n",
       "      <td>NaN</td>\n",
       "      <td>NaN</td>\n",
       "      <td>NaN</td>\n",
       "      <td>NaN</td>\n",
       "      <td>NaN</td>\n",
       "      <td>NaN</td>\n",
       "    </tr>\n",
       "    <tr>\n",
       "      <th>1</th>\n",
       "      <td>3070802</td>\n",
       "      <td>1963</td>\n",
       "      <td>1096</td>\n",
       "      <td>NaN</td>\n",
       "      <td>US</td>\n",
       "      <td>TX</td>\n",
       "      <td>NaN</td>\n",
       "      <td>1</td>\n",
       "      <td>NaN</td>\n",
       "      <td>2</td>\n",
       "      <td>...</td>\n",
       "      <td>0</td>\n",
       "      <td>NaN</td>\n",
       "      <td>NaN</td>\n",
       "      <td>NaN</td>\n",
       "      <td>NaN</td>\n",
       "      <td>NaN</td>\n",
       "      <td>NaN</td>\n",
       "      <td>NaN</td>\n",
       "      <td>NaN</td>\n",
       "      <td>NaN</td>\n",
       "    </tr>\n",
       "    <tr>\n",
       "      <th>2</th>\n",
       "      <td>3070803</td>\n",
       "      <td>1963</td>\n",
       "      <td>1096</td>\n",
       "      <td>NaN</td>\n",
       "      <td>US</td>\n",
       "      <td>IL</td>\n",
       "      <td>NaN</td>\n",
       "      <td>1</td>\n",
       "      <td>NaN</td>\n",
       "      <td>2</td>\n",
       "      <td>...</td>\n",
       "      <td>9</td>\n",
       "      <td>NaN</td>\n",
       "      <td>0.3704</td>\n",
       "      <td>NaN</td>\n",
       "      <td>NaN</td>\n",
       "      <td>NaN</td>\n",
       "      <td>NaN</td>\n",
       "      <td>NaN</td>\n",
       "      <td>NaN</td>\n",
       "      <td>NaN</td>\n",
       "    </tr>\n",
       "    <tr>\n",
       "      <th>3</th>\n",
       "      <td>3070804</td>\n",
       "      <td>1963</td>\n",
       "      <td>1096</td>\n",
       "      <td>NaN</td>\n",
       "      <td>US</td>\n",
       "      <td>OH</td>\n",
       "      <td>NaN</td>\n",
       "      <td>1</td>\n",
       "      <td>NaN</td>\n",
       "      <td>2</td>\n",
       "      <td>...</td>\n",
       "      <td>3</td>\n",
       "      <td>NaN</td>\n",
       "      <td>0.6667</td>\n",
       "      <td>NaN</td>\n",
       "      <td>NaN</td>\n",
       "      <td>NaN</td>\n",
       "      <td>NaN</td>\n",
       "      <td>NaN</td>\n",
       "      <td>NaN</td>\n",
       "      <td>NaN</td>\n",
       "    </tr>\n",
       "    <tr>\n",
       "      <th>4</th>\n",
       "      <td>3070805</td>\n",
       "      <td>1963</td>\n",
       "      <td>1096</td>\n",
       "      <td>NaN</td>\n",
       "      <td>US</td>\n",
       "      <td>CA</td>\n",
       "      <td>NaN</td>\n",
       "      <td>1</td>\n",
       "      <td>NaN</td>\n",
       "      <td>2</td>\n",
       "      <td>...</td>\n",
       "      <td>1</td>\n",
       "      <td>NaN</td>\n",
       "      <td>0.0000</td>\n",
       "      <td>NaN</td>\n",
       "      <td>NaN</td>\n",
       "      <td>NaN</td>\n",
       "      <td>NaN</td>\n",
       "      <td>NaN</td>\n",
       "      <td>NaN</td>\n",
       "      <td>NaN</td>\n",
       "    </tr>\n",
       "  </tbody>\n",
       "</table>\n",
       "<p>5 rows × 23 columns</p>\n",
       "</div>"
      ],
      "text/plain": [
       "    PATENT  GYEAR  GDATE  APPYEAR COUNTRY POSTATE  ASSIGNEE  ASSCODE  CLAIMS  \\\n",
       "0  3070801   1963   1096      NaN      BE     NaN       NaN        1     NaN   \n",
       "1  3070802   1963   1096      NaN      US      TX       NaN        1     NaN   \n",
       "2  3070803   1963   1096      NaN      US      IL       NaN        1     NaN   \n",
       "3  3070804   1963   1096      NaN      US      OH       NaN        1     NaN   \n",
       "4  3070805   1963   1096      NaN      US      CA       NaN        1     NaN   \n",
       "\n",
       "   NCLASS    ...     CRECEIVE  RATIOCIT  GENERAL  ORIGINAL  FWDAPLAG  \\\n",
       "0     269    ...            1       NaN   0.0000       NaN       NaN   \n",
       "1       2    ...            0       NaN      NaN       NaN       NaN   \n",
       "2       2    ...            9       NaN   0.3704       NaN       NaN   \n",
       "3       2    ...            3       NaN   0.6667       NaN       NaN   \n",
       "4       2    ...            1       NaN   0.0000       NaN       NaN   \n",
       "\n",
       "   BCKGTLAG  SELFCTUB  SELFCTLB  SECDUPBD  SECDLWBD  \n",
       "0       NaN       NaN       NaN       NaN       NaN  \n",
       "1       NaN       NaN       NaN       NaN       NaN  \n",
       "2       NaN       NaN       NaN       NaN       NaN  \n",
       "3       NaN       NaN       NaN       NaN       NaN  \n",
       "4       NaN       NaN       NaN       NaN       NaN  \n",
       "\n",
       "[5 rows x 23 columns]"
      ]
     },
     "execution_count": 4,
     "metadata": {},
     "output_type": "execute_result"
    }
   ],
   "source": [
    "df = pd.read_csv('data/apat63_99.csv')\n",
    "print (\"lenght: \",len(df))\n",
    "df.head()"
   ]
  },
  {
   "cell_type": "markdown",
   "metadata": {},
   "source": [
    "The Pat63_99 file is sorted by ascending patent number. <br>\n",
    "**There are 23 variables, which represent the following characteristics:**\n",
    "\n",
    "    patent: Patent Number\n",
    "    gyear: Grant Year\n",
    "    gdate: Grant Date\n",
    "    appyear: Application Year\n",
    "    country: Country of First Inventor\n",
    "    postate: State of First Inventor (if US)\n",
    "    assignee: Assignee Identifier (missing 1963-1967)\n",
    "    asscode: Assignee Type (see below)\n",
    "    claims: number of Claims\n",
    "    nclass: Main Patent Class (3 digit)\n",
    "    cat: Technological Category\n",
    "    subcat: Technological Sub-Category\n",
    "    cmade: Number of Citations Made\n",
    "    creceive: Number of Citations Received\n",
    "    ratiocit: Percent of Citations Made to Patents Granted Since 1963\n",
    "    general: Measure of Generality\n",
    "    original: Measure of Originality\n",
    "    fwdaplag: Mean Forward Citation Lag\n",
    "    bckgtlag: Mean Backward Citation Lag\n",
    "    selfctub: Share of Self-Citations Made - Upper Bound\n",
    "    selfctlb: Share of Self-Citations Made - Lower Bound\n",
    "    secdupbd: Share of Self-Citations Received - Upper Bound\n",
    "    secdlwbd: Share of Self-Citations Received - Lower Bound"
   ]
  },
  {
   "cell_type": "markdown",
   "metadata": {},
   "source": [
    "More useful information about the variables:\n",
    "------------------\n",
    "1. The State/Country Code is a three-character code. A list of corresponding state and country\n",
    "   names is included in the list_countries file in nber page. These codes are present for all patents in the file \n",
    "   (1963-1999).\n",
    "2. The Assignee Identifier can be converted to the company name using the Coname file, \n",
    "   Assignee Identifier is available for patents granted since 1969. \n",
    "3. The Assignee type code is a one-character code having the following meaning:\n",
    "\n",
    "     1    = unassigned\n",
    "     2    = assigned to a U.S. nongovernment organization\n",
    "     3    = assigned to a non-U.S., nongovernment organization\n",
    "     4    = assigned to a U.S. individual\n",
    "     5    = assigned to a non-U.S. individual\n",
    "     6    = assigned to the U.S. (Federal) Government\n",
    "     7    = assigned to a non-U.S. government\n",
    "     8,9  = assigned to a U.S. non-Federal Government agency (do not appear in the dataset)\n",
    "                 \n",
    "4. The upper and lower bound for self-citations, together with the number of citations received,\n",
    "   allow to compute the number of citations received having an assignee identifier (same for \n",
    "   citations made).\n",
    "5. The application year is available for patents granted since 1967.\n",
    "6. The number of claims is available for patents granted since 1975.\n",
    "7. Grant Date is the number of days elapsed since 1.1.1960.\n",
    "8. Main Patent Class list, as provided by the USPTO, is given in the attached Class file."
   ]
  },
  {
   "cell_type": "code",
   "execution_count": 5,
   "metadata": {
    "scrolled": false
   },
   "outputs": [
    {
     "name": "stdout",
     "output_type": "stream",
     "text": [
      "PATENT      2923922\n",
      "GYEAR       2923922\n",
      "GDATE       2923922\n",
      "APPYEAR     2699606\n",
      "COUNTRY     2923922\n",
      "POSTATE     1784989\n",
      "ASSIGNEE    2089903\n",
      "ASSCODE     2923922\n",
      "CLAIMS      1984055\n",
      "NCLASS      2923922\n",
      "CAT         2923922\n",
      "SUBCAT      2923922\n",
      "CMADE       2139314\n",
      "CRECEIVE    2923922\n",
      "RATIOCIT    2088795\n",
      "GENERAL     2240348\n",
      "ORIGINAL    2042151\n",
      "FWDAPLAG    2074641\n",
      "BCKGTLAG    2088785\n",
      "SELFCTUB    1703004\n",
      "SELFCTLB    1703004\n",
      "SECDUPBD    1599160\n",
      "SECDLWBD    1599160\n",
      "dtype: int64\n"
     ]
    }
   ],
   "source": [
    "num_valid_entries_per_column = df.count(axis=0)\n",
    "print (num_valid_entries_per_column)"
   ]
  },
  {
   "cell_type": "code",
   "execution_count": 6,
   "metadata": {},
   "outputs": [
    {
     "name": "stdout",
     "output_type": "stream",
     "text": [
      "(2923922, 23)\n"
     ]
    }
   ],
   "source": [
    "clean_df = df.dropna(axis=0, how='all')\n",
    "print (clean_df.shape)"
   ]
  },
  {
   "cell_type": "markdown",
   "metadata": {},
   "source": [
    "### Coname file"
   ]
  },
  {
   "cell_type": "markdown",
   "metadata": {},
   "source": [
    "The Coname file lists company names and associated assignee identifier. **The variables are 2:**\n",
    "\n",
    "    assignee: Assignee Identifier\n",
    "    compname: Full Assignee Name"
   ]
  },
  {
   "cell_type": "code",
   "execution_count": 7,
   "metadata": {},
   "outputs": [
    {
     "name": "stdout",
     "output_type": "stream",
     "text": [
      "lenght:  175115\n"
     ]
    },
    {
     "data": {
      "text/html": [
       "<div>\n",
       "<style>\n",
       "    .dataframe thead tr:only-child th {\n",
       "        text-align: right;\n",
       "    }\n",
       "\n",
       "    .dataframe thead th {\n",
       "        text-align: left;\n",
       "    }\n",
       "\n",
       "    .dataframe tbody tr th {\n",
       "        vertical-align: top;\n",
       "    }\n",
       "</style>\n",
       "<table border=\"1\" class=\"dataframe\">\n",
       "  <thead>\n",
       "    <tr style=\"text-align: right;\">\n",
       "      <th></th>\n",
       "      <th>ASSIGNEE</th>\n",
       "      <th>COMPNAME</th>\n",
       "    </tr>\n",
       "  </thead>\n",
       "  <tbody>\n",
       "    <tr>\n",
       "      <th>0</th>\n",
       "      <td>5</td>\n",
       "      <td>AAA ASSOCIATES, INC.</td>\n",
       "    </tr>\n",
       "    <tr>\n",
       "      <th>1</th>\n",
       "      <td>10</td>\n",
       "      <td>AAA OFFICE COFFEE SERVICE, INC.</td>\n",
       "    </tr>\n",
       "    <tr>\n",
       "      <th>2</th>\n",
       "      <td>15</td>\n",
       "      <td>AAA PIPE CLEANING CORPORATION</td>\n",
       "    </tr>\n",
       "    <tr>\n",
       "      <th>3</th>\n",
       "      <td>20</td>\n",
       "      <td>AAA PRODUCTS INTERNATIONAL INC.</td>\n",
       "    </tr>\n",
       "    <tr>\n",
       "      <th>4</th>\n",
       "      <td>25</td>\n",
       "      <td>AAA SALES &amp; ENGINEERING, INC.</td>\n",
       "    </tr>\n",
       "  </tbody>\n",
       "</table>\n",
       "</div>"
      ],
      "text/plain": [
       "   ASSIGNEE                         COMPNAME\n",
       "0         5             AAA ASSOCIATES, INC.\n",
       "1        10  AAA OFFICE COFFEE SERVICE, INC.\n",
       "2        15    AAA PIPE CLEANING CORPORATION\n",
       "3        20  AAA PRODUCTS INTERNATIONAL INC.\n",
       "4        25    AAA SALES & ENGINEERING, INC."
      ]
     },
     "execution_count": 7,
     "metadata": {},
     "output_type": "execute_result"
    }
   ],
   "source": [
    "coname = pd.read_csv('data/aconame.csv')\n",
    "print (\"lenght: \",len(coname))\n",
    "coname.head()"
   ]
  },
  {
   "cell_type": "markdown",
   "metadata": {},
   "source": [
    "The Coname file is sorted by ascending Assignee Identifier. The Coname\n",
    "file is NOT sorted alphabetically (some portions of the file,\n",
    "however, may appear to be in alphabetical order). \n",
    "\n",
    "A Note about TAF Company Codes and Company Names:  TAF Company\n",
    "Codes are used to identify organizational names in the TAF database. \n",
    "These codes do not appear in other PTO databases,\n",
    "such as the Automated Patent System.\n",
    "\n",
    "The Company Codes and Company Names that appear in Coname file are\n",
    "\"preferred\" codes and names.   Frequently, patents assigned to a\n",
    "given organization may show alternate spelling or syntax formats;\n",
    "for example, some patents assigned to International Business\n",
    "Machines Corp. may simply show IBM.  These alternate formats are\n",
    "mapped to a preferred format so that all patents assigned to a\n",
    "given organization  can be represented by a single code and name. \n",
    "The preferred Company Codes and Company Names that appear on the\n",
    "Coname file include all preferred codes and names that existed at\n",
    "the time the Coname file was produced.  It is possible that a\n",
    "preferred Company Code and Company Name that was in use at the time\n",
    "the Coname file was produced was not the same code and name that\n",
    "was in use at the time the patent was granted. "
   ]
  },
  {
   "cell_type": "markdown",
   "metadata": {},
   "source": [
    "### Match file"
   ]
  },
  {
   "cell_type": "markdown",
   "metadata": {},
   "source": [
    "The Compustat file lists company names and associated assignee identifier (from Pat63_99) \n",
    "and the matched Compustat identifier (CUSIP). The file provides the full name of\n",
    "the company as it appears in both the patent and Compustat data.\n",
    "The file also contains the name of the parent company and subsidiary \n",
    "company if such information exists."
   ]
  },
  {
   "cell_type": "code",
   "execution_count": 9,
   "metadata": {},
   "outputs": [
    {
     "name": "stdout",
     "output_type": "stream",
     "text": [
      "lenght:  4906\n"
     ]
    },
    {
     "data": {
      "text/html": [
       "<div>\n",
       "<style>\n",
       "    .dataframe thead tr:only-child th {\n",
       "        text-align: right;\n",
       "    }\n",
       "\n",
       "    .dataframe thead th {\n",
       "        text-align: left;\n",
       "    }\n",
       "\n",
       "    .dataframe tbody tr th {\n",
       "        vertical-align: top;\n",
       "    }\n",
       "</style>\n",
       "<table border=\"1\" class=\"dataframe\">\n",
       "  <thead>\n",
       "    <tr style=\"text-align: right;\">\n",
       "      <th></th>\n",
       "      <th>assignee</th>\n",
       "      <th>assname</th>\n",
       "      <th>cname</th>\n",
       "      <th>cusip</th>\n",
       "      <th>own</th>\n",
       "      <th>pname</th>\n",
       "      <th>sname</th>\n",
       "    </tr>\n",
       "  </thead>\n",
       "  <tbody>\n",
       "    <tr>\n",
       "      <th>0</th>\n",
       "      <td>105</td>\n",
       "      <td>AAI CORPORATION</td>\n",
       "      <td>UNITED INDUSTRIAL CORP</td>\n",
       "      <td>910671</td>\n",
       "      <td>NaN</td>\n",
       "      <td>NaN</td>\n",
       "      <td>NaN</td>\n",
       "    </tr>\n",
       "    <tr>\n",
       "      <th>1</th>\n",
       "      <td>220</td>\n",
       "      <td>AAR CORP</td>\n",
       "      <td>AAR CORP</td>\n",
       "      <td>000361</td>\n",
       "      <td>NaN</td>\n",
       "      <td>NaN</td>\n",
       "      <td>NaN</td>\n",
       "    </tr>\n",
       "    <tr>\n",
       "      <th>2</th>\n",
       "      <td>365</td>\n",
       "      <td>AB AG LABORATORIES LIMITED</td>\n",
       "      <td>DEL LABORATORIES INC</td>\n",
       "      <td>245091</td>\n",
       "      <td>NaN</td>\n",
       "      <td>NaN</td>\n",
       "      <td>NaN</td>\n",
       "    </tr>\n",
       "    <tr>\n",
       "      <th>3</th>\n",
       "      <td>735</td>\n",
       "      <td>ABBOTT LABORATORIES</td>\n",
       "      <td>ABBOTT LABORATORIES</td>\n",
       "      <td>002824</td>\n",
       "      <td>NaN</td>\n",
       "      <td>NaN</td>\n",
       "      <td>NaN</td>\n",
       "    </tr>\n",
       "    <tr>\n",
       "      <th>4</th>\n",
       "      <td>785</td>\n",
       "      <td>ABB POWER T  &amp;  D CPY     INC</td>\n",
       "      <td>WESTINGHOUSE ELECTRIC CORP</td>\n",
       "      <td>960402</td>\n",
       "      <td>55.0</td>\n",
       "      <td>WESTINGHOUSE ELECTRIC CORP</td>\n",
       "      <td>ABB POWER T &amp; D CO</td>\n",
       "    </tr>\n",
       "  </tbody>\n",
       "</table>\n",
       "</div>"
      ],
      "text/plain": [
       "   assignee                        assname                       cname  \\\n",
       "0       105                AAI CORPORATION      UNITED INDUSTRIAL CORP   \n",
       "1       220                       AAR CORP                    AAR CORP   \n",
       "2       365     AB AG LABORATORIES LIMITED        DEL LABORATORIES INC   \n",
       "3       735            ABBOTT LABORATORIES         ABBOTT LABORATORIES   \n",
       "4       785  ABB POWER T  &  D CPY     INC  WESTINGHOUSE ELECTRIC CORP   \n",
       "\n",
       "    cusip   own                       pname               sname  \n",
       "0  910671   NaN                         NaN                 NaN  \n",
       "1  000361   NaN                         NaN                 NaN  \n",
       "2  245091   NaN                         NaN                 NaN  \n",
       "3  002824   NaN                         NaN                 NaN  \n",
       "4  960402  55.0  WESTINGHOUSE ELECTRIC CORP  ABB POWER T & D CO  "
      ]
     },
     "execution_count": 9,
     "metadata": {},
     "output_type": "execute_result"
    }
   ],
   "source": [
    "match = pd.read_csv('data/match.csv')\n",
    "print (\"lenght: \",len(match))\n",
    "match.head()"
   ]
  },
  {
   "cell_type": "markdown",
   "metadata": {},
   "source": [
    "The Compustat file is sorted by ascending Assignee Identifier. <br>\n",
    "The Compustat file is NOT sorted alphabetically (some portions of the file,\n",
    "however, may appear to be in alphabetical order). <br>\n",
    "**There are 7 variables:**\n",
    "\n",
    "    assignee: Assignee Identifier\n",
    "    assname: Patent Assignee Name\n",
    "    pname: Parent Name\n",
    "    sname: Subsidiary Name\n",
    "    own: Percent of Ownership\n",
    "    cusip: Compustat CUSIP\n",
    "    cname: Compustat Name"
   ]
  },
  {
   "cell_type": "markdown",
   "metadata": {},
   "source": [
    "### Inventor file"
   ]
  },
  {
   "cell_type": "markdown",
   "metadata": {},
   "source": [
    "The Inventor file includes the patent number, inventor name, \n",
    "street address (if present on the patent record), city,\n",
    "state, country code, zip code (where available), and\n",
    "inventor sequence number of inventors listed on patents generally\n",
    "issued from January 1, 1975 to December 31, 1999. "
   ]
  },
  {
   "cell_type": "code",
   "execution_count": 11,
   "metadata": {},
   "outputs": [
    {
     "name": "stdout",
     "output_type": "stream",
     "text": [
      "lenght:  4301229\n"
     ]
    },
    {
     "data": {
      "text/html": [
       "<div>\n",
       "<style>\n",
       "    .dataframe thead tr:only-child th {\n",
       "        text-align: right;\n",
       "    }\n",
       "\n",
       "    .dataframe thead th {\n",
       "        text-align: left;\n",
       "    }\n",
       "\n",
       "    .dataframe tbody tr th {\n",
       "        vertical-align: top;\n",
       "    }\n",
       "</style>\n",
       "<table border=\"1\" class=\"dataframe\">\n",
       "  <thead>\n",
       "    <tr style=\"text-align: right;\">\n",
       "      <th></th>\n",
       "      <th>PATENT</th>\n",
       "      <th>LASTNAM</th>\n",
       "      <th>FIRSTNAM</th>\n",
       "      <th>MIDNAM</th>\n",
       "      <th>MODIFNAM</th>\n",
       "      <th>STREET</th>\n",
       "      <th>CITY</th>\n",
       "      <th>POSTATE</th>\n",
       "      <th>COUNTRY</th>\n",
       "      <th>ZIP</th>\n",
       "      <th>INVSEQ</th>\n",
       "    </tr>\n",
       "  </thead>\n",
       "  <tbody>\n",
       "    <tr>\n",
       "      <th>0</th>\n",
       "      <td>3858241</td>\n",
       "      <td>Durand</td>\n",
       "      <td>Philip</td>\n",
       "      <td>E.</td>\n",
       "      <td>NaN</td>\n",
       "      <td>NaN</td>\n",
       "      <td>Hudson</td>\n",
       "      <td>MA</td>\n",
       "      <td>US</td>\n",
       "      <td>NaN</td>\n",
       "      <td>1</td>\n",
       "    </tr>\n",
       "    <tr>\n",
       "      <th>1</th>\n",
       "      <td>3858241</td>\n",
       "      <td>Norris</td>\n",
       "      <td>Lonnie</td>\n",
       "      <td>H.</td>\n",
       "      <td>NaN</td>\n",
       "      <td>NaN</td>\n",
       "      <td>Milford</td>\n",
       "      <td>MA</td>\n",
       "      <td>US</td>\n",
       "      <td>NaN</td>\n",
       "      <td>2</td>\n",
       "    </tr>\n",
       "    <tr>\n",
       "      <th>2</th>\n",
       "      <td>3858242</td>\n",
       "      <td>Gooding</td>\n",
       "      <td>Elwyn</td>\n",
       "      <td>R.</td>\n",
       "      <td>NaN</td>\n",
       "      <td>120 Darwin Rd.</td>\n",
       "      <td>Pinckney</td>\n",
       "      <td>MI</td>\n",
       "      <td>US</td>\n",
       "      <td>48169</td>\n",
       "      <td>1</td>\n",
       "    </tr>\n",
       "    <tr>\n",
       "      <th>3</th>\n",
       "      <td>3858243</td>\n",
       "      <td>Pierron</td>\n",
       "      <td>Claude</td>\n",
       "      <td>Raymond</td>\n",
       "      <td>NaN</td>\n",
       "      <td>NaN</td>\n",
       "      <td>Epinal</td>\n",
       "      <td>NaN</td>\n",
       "      <td>FR</td>\n",
       "      <td>NaN</td>\n",
       "      <td>1</td>\n",
       "    </tr>\n",
       "    <tr>\n",
       "      <th>4</th>\n",
       "      <td>3858243</td>\n",
       "      <td>Jenny</td>\n",
       "      <td>Jean</td>\n",
       "      <td>Paul</td>\n",
       "      <td>NaN</td>\n",
       "      <td>NaN</td>\n",
       "      <td>Decines</td>\n",
       "      <td>NaN</td>\n",
       "      <td>FR</td>\n",
       "      <td>NaN</td>\n",
       "      <td>2</td>\n",
       "    </tr>\n",
       "  </tbody>\n",
       "</table>\n",
       "</div>"
      ],
      "text/plain": [
       "    PATENT  LASTNAM FIRSTNAM   MIDNAM MODIFNAM          STREET      CITY  \\\n",
       "0  3858241   Durand   Philip       E.      NaN             NaN    Hudson   \n",
       "1  3858241   Norris   Lonnie       H.      NaN             NaN   Milford   \n",
       "2  3858242  Gooding    Elwyn       R.      NaN  120 Darwin Rd.  Pinckney   \n",
       "3  3858243  Pierron   Claude  Raymond      NaN             NaN    Epinal   \n",
       "4  3858243    Jenny     Jean     Paul      NaN             NaN   Decines   \n",
       "\n",
       "  POSTATE COUNTRY    ZIP  INVSEQ  \n",
       "0      MA      US    NaN       1  \n",
       "1      MA      US    NaN       2  \n",
       "2      MI      US  48169       1  \n",
       "3     NaN      FR    NaN       1  \n",
       "4     NaN      FR    NaN       2  "
      ]
     },
     "execution_count": 11,
     "metadata": {},
     "output_type": "execute_result"
    }
   ],
   "source": [
    "inventor = pd.read_csv('data/ainventor.csv', low_memory=False)\n",
    "print(\"lenght: \",len(inventor))\n",
    "inventor.head()"
   ]
  },
  {
   "cell_type": "markdown",
   "metadata": {},
   "source": [
    "The INVENTOR file is sorted by ascending patent number and the sequence \n",
    "in which the inventor name appeared on the printed patent. <br>\n",
    "**There are 12 variables:**\n",
    "\n",
    "    patent: Patent Number\n",
    "    lastnam: Last Name of Inventor\n",
    "    firstnam: First Name of Inventor\n",
    "    midnam: Middle Name of Inventor\n",
    "    modifnam: Surname Modifier (e.g.,\"Jr.\")\n",
    "    street: Street Address\n",
    "    city: City\n",
    "    postate: State Code\n",
    "    country: Country Code\n",
    "    zip: Zip Code\n",
    "    invseq: Inventor Sequence Number\n",
    "    street: Street Address"
   ]
  },
  {
   "cell_type": "markdown",
   "metadata": {},
   "source": [
    "The INVENTOR file is sorted by ascending patent number and the sequence \n",
    "in which the inventor name appeared on the printed patent.\n",
    "\n",
    "Street address data are blank where patent rights are assigned \n",
    "to an organization at the time of grant, as indicated on the front\n",
    "page of the patent. Since this file includes the patent number in \n",
    "each record (in addition to the inventor name and residence information), \n",
    "inventor name and residence information can be repeated in multiple \n",
    "records if those inventors are listed on more than one patent in the\n",
    "file."
   ]
  },
  {
   "cell_type": "markdown",
   "metadata": {},
   "source": [
    "### List_of_countries File"
   ]
  },
  {
   "cell_type": "markdown",
   "metadata": {},
   "source": [
    "This file includes country codes with corresponding country names."
   ]
  },
  {
   "cell_type": "code",
   "execution_count": 140,
   "metadata": {},
   "outputs": [
    {
     "name": "stdout",
     "output_type": "stream",
     "text": [
      "lenght:  16522438\n"
     ]
    },
    {
     "data": {
      "text/html": [
       "<div>\n",
       "<style>\n",
       "    .dataframe thead tr:only-child th {\n",
       "        text-align: right;\n",
       "    }\n",
       "\n",
       "    .dataframe thead th {\n",
       "        text-align: left;\n",
       "    }\n",
       "\n",
       "    .dataframe tbody tr th {\n",
       "        vertical-align: top;\n",
       "    }\n",
       "</style>\n",
       "<table border=\"1\" class=\"dataframe\">\n",
       "  <thead>\n",
       "    <tr style=\"text-align: right;\">\n",
       "      <th></th>\n",
       "      <th>Code</th>\n",
       "      <th>Country</th>\n",
       "    </tr>\n",
       "  </thead>\n",
       "  <tbody>\n",
       "    <tr>\n",
       "      <th>0</th>\n",
       "      <td>AL</td>\n",
       "      <td>ALBANIA</td>\n",
       "    </tr>\n",
       "    <tr>\n",
       "      <th>1</th>\n",
       "      <td>DZ</td>\n",
       "      <td>ALGERIA</td>\n",
       "    </tr>\n",
       "    <tr>\n",
       "      <th>2</th>\n",
       "      <td>AD</td>\n",
       "      <td>ANDORRA</td>\n",
       "    </tr>\n",
       "    <tr>\n",
       "      <th>3</th>\n",
       "      <td>AI</td>\n",
       "      <td>ANGUILLA</td>\n",
       "    </tr>\n",
       "    <tr>\n",
       "      <th>4</th>\n",
       "      <td>AG</td>\n",
       "      <td>ANTIGUA AND BARBUDA</td>\n",
       "    </tr>\n",
       "  </tbody>\n",
       "</table>\n",
       "</div>"
      ],
      "text/plain": [
       "  Code              Country\n",
       "0   AL              ALBANIA\n",
       "1   DZ              ALGERIA\n",
       "2   AD              ANDORRA\n",
       "3   AI             ANGUILLA\n",
       "4   AG  ANTIGUA AND BARBUDA"
      ]
     },
     "execution_count": 140,
     "metadata": {},
     "output_type": "execute_result"
    }
   ],
   "source": [
    "countries = pd.read_csv('data/list_of_countries.csv', delimiter='   ', engine='python')\n",
    "print(\"lenght: \",len(cite))\n",
    "countries.head()"
   ]
  },
  {
   "cell_type": "markdown",
   "metadata": {},
   "source": [
    "### Cite75_99 File"
   ]
  },
  {
   "cell_type": "markdown",
   "metadata": {},
   "source": [
    "This file includes all US patent citations for utility patents \n",
    "granted in the period 1-Jan-75 to 31-Dec-99."
   ]
  },
  {
   "cell_type": "code",
   "execution_count": 12,
   "metadata": {},
   "outputs": [
    {
     "name": "stdout",
     "output_type": "stream",
     "text": [
      "lenght:  16522438\n"
     ]
    },
    {
     "data": {
      "text/html": [
       "<div>\n",
       "<style>\n",
       "    .dataframe thead tr:only-child th {\n",
       "        text-align: right;\n",
       "    }\n",
       "\n",
       "    .dataframe thead th {\n",
       "        text-align: left;\n",
       "    }\n",
       "\n",
       "    .dataframe tbody tr th {\n",
       "        vertical-align: top;\n",
       "    }\n",
       "</style>\n",
       "<table border=\"1\" class=\"dataframe\">\n",
       "  <thead>\n",
       "    <tr style=\"text-align: right;\">\n",
       "      <th></th>\n",
       "      <th>CITING</th>\n",
       "      <th>CITED</th>\n",
       "    </tr>\n",
       "  </thead>\n",
       "  <tbody>\n",
       "    <tr>\n",
       "      <th>0</th>\n",
       "      <td>3858241</td>\n",
       "      <td>956203</td>\n",
       "    </tr>\n",
       "    <tr>\n",
       "      <th>1</th>\n",
       "      <td>3858241</td>\n",
       "      <td>1324234</td>\n",
       "    </tr>\n",
       "    <tr>\n",
       "      <th>2</th>\n",
       "      <td>3858241</td>\n",
       "      <td>3398406</td>\n",
       "    </tr>\n",
       "    <tr>\n",
       "      <th>3</th>\n",
       "      <td>3858241</td>\n",
       "      <td>3557384</td>\n",
       "    </tr>\n",
       "    <tr>\n",
       "      <th>4</th>\n",
       "      <td>3858241</td>\n",
       "      <td>3634889</td>\n",
       "    </tr>\n",
       "  </tbody>\n",
       "</table>\n",
       "</div>"
      ],
      "text/plain": [
       "    CITING    CITED\n",
       "0  3858241   956203\n",
       "1  3858241  1324234\n",
       "2  3858241  3398406\n",
       "3  3858241  3557384\n",
       "4  3858241  3634889"
      ]
     },
     "execution_count": 12,
     "metadata": {},
     "output_type": "execute_result"
    }
   ],
   "source": [
    "cite = pd.read_csv('data/cite75_99.csv')\n",
    "print(\"lenght: \",len(cite))\n",
    "cite.head()"
   ]
  },
  {
   "cell_type": "markdown",
   "metadata": {},
   "source": [
    "The file is sorted by Citing Patent Number. <br>\n",
    "**There are 2 variables:**\n",
    "\n",
    "    citing: Citing Patent Number\n",
    "    cited: Cited Patent Number"
   ]
  },
  {
   "cell_type": "markdown",
   "metadata": {},
   "source": [
    "### In addition we have a US Patent citation network file from the Stanford University website: http://snap.stanford.edu/data/cit-Patents.html\n",
    "It provides a directed graph (each unordered pair of nodes is saved once), with 3774768 Nodes and 16518948 Edges.\n",
    "We load and explore it in order to understand if it's difference from the Cite75_99 file."
   ]
  },
  {
   "cell_type": "code",
   "execution_count": 23,
   "metadata": {},
   "outputs": [
    {
     "name": "stdout",
     "output_type": "stream",
     "text": [
      "lenght:  16518948\n"
     ]
    },
    {
     "data": {
      "text/html": [
       "<div>\n",
       "<style>\n",
       "    .dataframe thead tr:only-child th {\n",
       "        text-align: right;\n",
       "    }\n",
       "\n",
       "    .dataframe thead th {\n",
       "        text-align: left;\n",
       "    }\n",
       "\n",
       "    .dataframe tbody tr th {\n",
       "        vertical-align: top;\n",
       "    }\n",
       "</style>\n",
       "<table border=\"1\" class=\"dataframe\">\n",
       "  <thead>\n",
       "    <tr style=\"text-align: right;\">\n",
       "      <th></th>\n",
       "      <th># FromNodeId</th>\n",
       "      <th>ToNodeId</th>\n",
       "    </tr>\n",
       "  </thead>\n",
       "  <tbody>\n",
       "    <tr>\n",
       "      <th>0</th>\n",
       "      <td>3858241</td>\n",
       "      <td>956203</td>\n",
       "    </tr>\n",
       "    <tr>\n",
       "      <th>1</th>\n",
       "      <td>3858241</td>\n",
       "      <td>1324234</td>\n",
       "    </tr>\n",
       "    <tr>\n",
       "      <th>2</th>\n",
       "      <td>3858241</td>\n",
       "      <td>3398406</td>\n",
       "    </tr>\n",
       "    <tr>\n",
       "      <th>3</th>\n",
       "      <td>3858241</td>\n",
       "      <td>3557384</td>\n",
       "    </tr>\n",
       "    <tr>\n",
       "      <th>4</th>\n",
       "      <td>3858241</td>\n",
       "      <td>3634889</td>\n",
       "    </tr>\n",
       "  </tbody>\n",
       "</table>\n",
       "</div>"
      ],
      "text/plain": [
       "   # FromNodeId  ToNodeId\n",
       "0       3858241    956203\n",
       "1       3858241   1324234\n",
       "2       3858241   3398406\n",
       "3       3858241   3557384\n",
       "4       3858241   3634889"
      ]
     },
     "execution_count": 23,
     "metadata": {},
     "output_type": "execute_result"
    }
   ],
   "source": [
    "citations = pd.read_csv('data/cit-Patents.txt', sep='\\t', skiprows=[0,1,2])\n",
    "print(\"lenght: \",len(citations))\n",
    "citations.head()"
   ]
  },
  {
   "cell_type": "code",
   "execution_count": 24,
   "metadata": {},
   "outputs": [
    {
     "data": {
      "text/html": [
       "<div>\n",
       "<style>\n",
       "    .dataframe thead tr:only-child th {\n",
       "        text-align: right;\n",
       "    }\n",
       "\n",
       "    .dataframe thead th {\n",
       "        text-align: left;\n",
       "    }\n",
       "\n",
       "    .dataframe tbody tr th {\n",
       "        vertical-align: top;\n",
       "    }\n",
       "</style>\n",
       "<table border=\"1\" class=\"dataframe\">\n",
       "  <thead>\n",
       "    <tr style=\"text-align: right;\">\n",
       "      <th></th>\n",
       "      <th>CITING</th>\n",
       "      <th>CITED</th>\n",
       "    </tr>\n",
       "  </thead>\n",
       "  <tbody>\n",
       "    <tr>\n",
       "      <th>16522433</th>\n",
       "      <td>6009554</td>\n",
       "      <td>4617662</td>\n",
       "    </tr>\n",
       "    <tr>\n",
       "      <th>16522434</th>\n",
       "      <td>6009554</td>\n",
       "      <td>4740972</td>\n",
       "    </tr>\n",
       "    <tr>\n",
       "      <th>16522435</th>\n",
       "      <td>6009554</td>\n",
       "      <td>4831521</td>\n",
       "    </tr>\n",
       "    <tr>\n",
       "      <th>16522436</th>\n",
       "      <td>6009554</td>\n",
       "      <td>5048064</td>\n",
       "    </tr>\n",
       "    <tr>\n",
       "      <th>16522437</th>\n",
       "      <td>6009554</td>\n",
       "      <td>5364047</td>\n",
       "    </tr>\n",
       "  </tbody>\n",
       "</table>\n",
       "</div>"
      ],
      "text/plain": [
       "           CITING    CITED\n",
       "16522433  6009554  4617662\n",
       "16522434  6009554  4740972\n",
       "16522435  6009554  4831521\n",
       "16522436  6009554  5048064\n",
       "16522437  6009554  5364047"
      ]
     },
     "execution_count": 24,
     "metadata": {},
     "output_type": "execute_result"
    }
   ],
   "source": [
    "cite.tail(5)"
   ]
  },
  {
   "cell_type": "code",
   "execution_count": 25,
   "metadata": {},
   "outputs": [
    {
     "data": {
      "text/html": [
       "<div>\n",
       "<style>\n",
       "    .dataframe thead tr:only-child th {\n",
       "        text-align: right;\n",
       "    }\n",
       "\n",
       "    .dataframe thead th {\n",
       "        text-align: left;\n",
       "    }\n",
       "\n",
       "    .dataframe tbody tr th {\n",
       "        vertical-align: top;\n",
       "    }\n",
       "</style>\n",
       "<table border=\"1\" class=\"dataframe\">\n",
       "  <thead>\n",
       "    <tr style=\"text-align: right;\">\n",
       "      <th></th>\n",
       "      <th># FromNodeId</th>\n",
       "      <th>ToNodeId</th>\n",
       "    </tr>\n",
       "  </thead>\n",
       "  <tbody>\n",
       "    <tr>\n",
       "      <th>16518943</th>\n",
       "      <td>6009554</td>\n",
       "      <td>4617662</td>\n",
       "    </tr>\n",
       "    <tr>\n",
       "      <th>16518944</th>\n",
       "      <td>6009554</td>\n",
       "      <td>4740972</td>\n",
       "    </tr>\n",
       "    <tr>\n",
       "      <th>16518945</th>\n",
       "      <td>6009554</td>\n",
       "      <td>4831521</td>\n",
       "    </tr>\n",
       "    <tr>\n",
       "      <th>16518946</th>\n",
       "      <td>6009554</td>\n",
       "      <td>5048064</td>\n",
       "    </tr>\n",
       "    <tr>\n",
       "      <th>16518947</th>\n",
       "      <td>6009554</td>\n",
       "      <td>5364047</td>\n",
       "    </tr>\n",
       "  </tbody>\n",
       "</table>\n",
       "</div>"
      ],
      "text/plain": [
       "          # FromNodeId  ToNodeId\n",
       "16518943       6009554   4617662\n",
       "16518944       6009554   4740972\n",
       "16518945       6009554   4831521\n",
       "16518946       6009554   5048064\n",
       "16518947       6009554   5364047"
      ]
     },
     "execution_count": 25,
     "metadata": {},
     "output_type": "execute_result"
    }
   ],
   "source": [
    "citations.tail(5)"
   ]
  },
  {
   "cell_type": "code",
   "execution_count": 26,
   "metadata": {},
   "outputs": [
    {
     "data": {
      "text/plain": [
       "3490"
      ]
     },
     "execution_count": 26,
     "metadata": {},
     "output_type": "execute_result"
    }
   ],
   "source": [
    "len(cite) - len(citations)"
   ]
  },
  {
   "cell_type": "markdown",
   "metadata": {},
   "source": [
    "Now let's look at our dataset in more detailed way and try to answer some interesting questions.\n",
    "* Is there a trend for the number of patent grants during the years?"
   ]
  },
  {
   "cell_type": "code",
   "execution_count": 95,
   "metadata": {},
   "outputs": [
    {
     "data": {
      "text/html": [
       "<div>\n",
       "<style>\n",
       "    .dataframe thead tr:only-child th {\n",
       "        text-align: right;\n",
       "    }\n",
       "\n",
       "    .dataframe thead th {\n",
       "        text-align: left;\n",
       "    }\n",
       "\n",
       "    .dataframe tbody tr th {\n",
       "        vertical-align: top;\n",
       "    }\n",
       "</style>\n",
       "<table border=\"1\" class=\"dataframe\">\n",
       "  <thead>\n",
       "    <tr style=\"text-align: right;\">\n",
       "      <th></th>\n",
       "      <th>PATENT</th>\n",
       "    </tr>\n",
       "    <tr>\n",
       "      <th>GYEAR</th>\n",
       "      <th></th>\n",
       "    </tr>\n",
       "  </thead>\n",
       "  <tbody>\n",
       "    <tr>\n",
       "      <th>1963</th>\n",
       "      <td>45679</td>\n",
       "    </tr>\n",
       "    <tr>\n",
       "      <th>1964</th>\n",
       "      <td>47375</td>\n",
       "    </tr>\n",
       "    <tr>\n",
       "      <th>1965</th>\n",
       "      <td>62857</td>\n",
       "    </tr>\n",
       "    <tr>\n",
       "      <th>1966</th>\n",
       "      <td>68405</td>\n",
       "    </tr>\n",
       "    <tr>\n",
       "      <th>1967</th>\n",
       "      <td>65652</td>\n",
       "    </tr>\n",
       "  </tbody>\n",
       "</table>\n",
       "</div>"
      ],
      "text/plain": [
       "       PATENT\n",
       "GYEAR        \n",
       "1963    45679\n",
       "1964    47375\n",
       "1965    62857\n",
       "1966    68405\n",
       "1967    65652"
      ]
     },
     "execution_count": 95,
     "metadata": {},
     "output_type": "execute_result"
    }
   ],
   "source": [
    "year_trend = df[['PATENT', 'GYEAR']]\n",
    "year_trend = year_trend.groupby('GYEAR').count()\n",
    "year_trend.head()"
   ]
  },
  {
   "cell_type": "code",
   "execution_count": 96,
   "metadata": {},
   "outputs": [
    {
     "data": {
      "text/plain": [
       "<matplotlib.axes._subplots.AxesSubplot at 0x1559e1828>"
      ]
     },
     "execution_count": 96,
     "metadata": {},
     "output_type": "execute_result"
    },
    {
     "data": {
      "image/png": "[encoded data removed]",
      "text/plain": [
       "<matplotlib.figure.Figure at 0x1584a91d0>"
      ]
     },
     "metadata": {},
     "output_type": "display_data"
    }
   ],
   "source": [
    "year_trend.plot.bar(figsize=(15,7))"
   ]
  },
  {
   "cell_type": "markdown",
   "metadata": {},
   "source": [
    "**Conclusion**: "
   ]
  },
  {
   "cell_type": "markdown",
   "metadata": {},
   "source": [
    "* Which countries have the most assigned patents?"
   ]
  },
  {
   "cell_type": "code",
   "execution_count": 141,
   "metadata": {},
   "outputs": [
    {
     "data": {
      "text/html": [
       "<div>\n",
       "<style>\n",
       "    .dataframe thead tr:only-child th {\n",
       "        text-align: right;\n",
       "    }\n",
       "\n",
       "    .dataframe thead th {\n",
       "        text-align: left;\n",
       "    }\n",
       "\n",
       "    .dataframe tbody tr th {\n",
       "        vertical-align: top;\n",
       "    }\n",
       "</style>\n",
       "<table border=\"1\" class=\"dataframe\">\n",
       "  <thead>\n",
       "    <tr style=\"text-align: right;\">\n",
       "      <th></th>\n",
       "      <th>PATENT</th>\n",
       "    </tr>\n",
       "    <tr>\n",
       "      <th>COUNTRY</th>\n",
       "      <th></th>\n",
       "    </tr>\n",
       "  </thead>\n",
       "  <tbody>\n",
       "    <tr>\n",
       "      <th>AD</th>\n",
       "      <td>6</td>\n",
       "    </tr>\n",
       "    <tr>\n",
       "      <th>AE</th>\n",
       "      <td>18</td>\n",
       "    </tr>\n",
       "    <tr>\n",
       "      <th>AG</th>\n",
       "      <td>9</td>\n",
       "    </tr>\n",
       "    <tr>\n",
       "      <th>AI</th>\n",
       "      <td>1</td>\n",
       "    </tr>\n",
       "    <tr>\n",
       "      <th>AL</th>\n",
       "      <td>1</td>\n",
       "    </tr>\n",
       "  </tbody>\n",
       "</table>\n",
       "</div>"
      ],
      "text/plain": [
       "         PATENT\n",
       "COUNTRY        \n",
       "AD            6\n",
       "AE           18\n",
       "AG            9\n",
       "AI            1\n",
       "AL            1"
      ]
     },
     "execution_count": 141,
     "metadata": {},
     "output_type": "execute_result"
    }
   ],
   "source": [
    "country_trend = df[['PATENT', 'COUNTRY']]\n",
    "country_trend = country_trend.groupby('COUNTRY').count()\n",
    "country_trend.head()"
   ]
  },
  {
   "cell_type": "code",
   "execution_count": 142,
   "metadata": {},
   "outputs": [
    {
     "data": {
      "text/html": [
       "<div>\n",
       "<style>\n",
       "    .dataframe thead tr:only-child th {\n",
       "        text-align: right;\n",
       "    }\n",
       "\n",
       "    .dataframe thead th {\n",
       "        text-align: left;\n",
       "    }\n",
       "\n",
       "    .dataframe tbody tr th {\n",
       "        vertical-align: top;\n",
       "    }\n",
       "</style>\n",
       "<table border=\"1\" class=\"dataframe\">\n",
       "  <thead>\n",
       "    <tr style=\"text-align: right;\">\n",
       "      <th></th>\n",
       "      <th>PATENT</th>\n",
       "      <th>Country</th>\n",
       "    </tr>\n",
       "    <tr>\n",
       "      <th>Code</th>\n",
       "      <th></th>\n",
       "      <th></th>\n",
       "    </tr>\n",
       "  </thead>\n",
       "  <tbody>\n",
       "    <tr>\n",
       "      <th>US</th>\n",
       "      <td>1784989</td>\n",
       "      <td>UNITED STATES</td>\n",
       "    </tr>\n",
       "    <tr>\n",
       "      <th>JP</th>\n",
       "      <td>421441</td>\n",
       "      <td>JAPAN</td>\n",
       "    </tr>\n",
       "    <tr>\n",
       "      <th>DE</th>\n",
       "      <td>221095</td>\n",
       "      <td>GERMANY</td>\n",
       "    </tr>\n",
       "    <tr>\n",
       "      <th>GB</th>\n",
       "      <td>98012</td>\n",
       "      <td>UNITED KINGDOM</td>\n",
       "    </tr>\n",
       "    <tr>\n",
       "      <th>FR</th>\n",
       "      <td>85398</td>\n",
       "      <td>FRANCE</td>\n",
       "    </tr>\n",
       "    <tr>\n",
       "      <th>CA</th>\n",
       "      <td>53872</td>\n",
       "      <td>CANADA</td>\n",
       "    </tr>\n",
       "    <tr>\n",
       "      <th>CH</th>\n",
       "      <td>43313</td>\n",
       "      <td>SWITZERLAND</td>\n",
       "    </tr>\n",
       "    <tr>\n",
       "      <th>IT</th>\n",
       "      <td>32433</td>\n",
       "      <td>ITALY</td>\n",
       "    </tr>\n",
       "    <tr>\n",
       "      <th>SE</th>\n",
       "      <td>28286</td>\n",
       "      <td>SWEDEN</td>\n",
       "    </tr>\n",
       "    <tr>\n",
       "      <th>NL</th>\n",
       "      <td>26687</td>\n",
       "      <td>NETHERLANDS</td>\n",
       "    </tr>\n",
       "    <tr>\n",
       "      <th>TW</th>\n",
       "      <td>19979</td>\n",
       "      <td>TAIWAN</td>\n",
       "    </tr>\n",
       "    <tr>\n",
       "      <th>KR</th>\n",
       "      <td>14855</td>\n",
       "      <td>SOUTH KOREA</td>\n",
       "    </tr>\n",
       "    <tr>\n",
       "      <th>AU</th>\n",
       "      <td>11386</td>\n",
       "      <td>AUSTRALIA</td>\n",
       "    </tr>\n",
       "    <tr>\n",
       "      <th>BE</th>\n",
       "      <td>10972</td>\n",
       "      <td>BELGIUM</td>\n",
       "    </tr>\n",
       "    <tr>\n",
       "      <th>AT</th>\n",
       "      <td>10260</td>\n",
       "      <td>AUSTRIA</td>\n",
       "    </tr>\n",
       "    <tr>\n",
       "      <th>IL</th>\n",
       "      <td>7378</td>\n",
       "      <td>ISRAEL</td>\n",
       "    </tr>\n",
       "    <tr>\n",
       "      <th>SU</th>\n",
       "      <td>6992</td>\n",
       "      <td>U.S.S.R.</td>\n",
       "    </tr>\n",
       "    <tr>\n",
       "      <th>FI</th>\n",
       "      <td>6984</td>\n",
       "      <td>FINLAND</td>\n",
       "    </tr>\n",
       "    <tr>\n",
       "      <th>DK</th>\n",
       "      <td>6479</td>\n",
       "      <td>DENMARK</td>\n",
       "    </tr>\n",
       "    <tr>\n",
       "      <th>ES</th>\n",
       "      <td>3601</td>\n",
       "      <td>SPAIN</td>\n",
       "    </tr>\n",
       "  </tbody>\n",
       "</table>\n",
       "</div>"
      ],
      "text/plain": [
       "       PATENT         Country\n",
       "Code                         \n",
       "US    1784989   UNITED STATES\n",
       "JP     421441           JAPAN\n",
       "DE     221095         GERMANY\n",
       "GB      98012  UNITED KINGDOM\n",
       "FR      85398          FRANCE\n",
       "CA      53872          CANADA\n",
       "CH      43313     SWITZERLAND\n",
       "IT      32433           ITALY\n",
       "SE      28286          SWEDEN\n",
       "NL      26687     NETHERLANDS\n",
       "TW      19979          TAIWAN\n",
       "KR      14855     SOUTH KOREA\n",
       "AU      11386       AUSTRALIA\n",
       "BE      10972         BELGIUM\n",
       "AT      10260         AUSTRIA\n",
       "IL       7378          ISRAEL\n",
       "SU       6992        U.S.S.R.\n",
       "FI       6984         FINLAND\n",
       "DK       6479         DENMARK\n",
       "ES       3601           SPAIN"
      ]
     },
     "execution_count": 142,
     "metadata": {},
     "output_type": "execute_result"
    }
   ],
   "source": [
    "country_trend2 = country_trend.merge(countries, left_index=True, right_on='Code').set_index('Code')\n",
    "country_trend2.sort_values(by=['PATENT'], ascending=False).head(20)"
   ]
  },
  {
   "cell_type": "code",
   "execution_count": null,
   "metadata": {},
   "outputs": [],
   "source": []
  }
 ],
 "metadata": {
  "kernelspec": {
   "display_name": "Python 3",
   "language": "python",
   "name": "python3"
  },
  "language_info": {
   "codemirror_mode": {
    "name": "ipython",
    "version": 3
   },
   "file_extension": ".py",
   "mimetype": "text/x-python",
   "name": "python",
   "nbconvert_exporter": "python",
   "pygments_lexer": "ipython3",
   "version": "3.6.3"
  }
 },
 "nbformat": 4,
 "nbformat_minor": 2
}
