{
 "cells": [
  {
   "cell_type": "markdown",
   "metadata": {},
   "source": [
    "# Table of Contents\n",
    " <p><div class=\"lev1\"><a href=\"#Task-1.-Compiling-Ebola-Data\"><span class=\"toc-item-num\">Task 1.&nbsp;&nbsp;</span>Compiling Ebola Data</a></div>\n",
    " <div class=\"lev1\"><a href=\"#Task-2.-RNA-Sequences\"><span class=\"toc-item-num\">Task 2.&nbsp;&nbsp;</span>RNA Sequences</a></div>\n",
    " <div class=\"lev1\"><a href=\"#Task-3.-Class-War-in-Titanic\"><span class=\"toc-item-num\">Task 3.&nbsp;&nbsp;</span>Class War in Titanic</a></div></p>"
   ]
  },
  {
   "cell_type": "code",
   "execution_count": 4,
   "metadata": {},
   "outputs": [],
   "source": [
    "import pandas as pd\n",
    "DATA_FOLDER = '../../ADA2017-Tutorials/02 - Intro to Pandas/Data' # Use the data folder provided in Tutorial 02 - Intro to Pandas."
   ]
  },
  {
   "cell_type": "markdown",
   "metadata": {},
   "source": [
    "## Task 1. Compiling Ebola Data\n",
    "\n",
    "The `DATA_FOLDER/ebola` folder contains summarized reports of Ebola cases from three countries (Guinea, Liberia and Sierra Leone) during the recent outbreak of the disease in West Africa. For each country, there are daily reports that contain various information about the outbreak in several cities in each country.\n",
    "\n",
    "Use pandas to import these data files into a single `Dataframe`.\n",
    "Using this `DataFrame`, calculate for *each country*, the *daily average* per year of *new cases* and *deaths*.\n",
    "Make sure you handle all the different expressions for *new cases* and *deaths* that are used in the reports."
   ]
  },
  {
   "cell_type": "code",
   "execution_count": 92,
   "metadata": {},
   "outputs": [
    {
     "name": "stdout",
     "output_type": "stream",
     "text": [
      "<class 'pandas.core.frame.DataFrame'>\n"
     ]
    }
   ],
   "source": [
    "# Write your answer here\n",
    "import os\n",
    "ebola=pd.DataFrame({'country' : []})\n",
    "print(type(ebola))\n",
    "countries=['guinea_data','liberia_data','sl_data']\n",
    "for country in countries:\n",
    "    country_path=DATA_FOLDER+'/ebola'+'/'+country\n",
    "    for file in os.listdir(country_path):\n",
    "        tmp=pd.read_csv(country_path+'/'+file)\n",
    "        tmp['country']=country\n",
    "        ebola=pd.concat([ebola,tmp])\n",
    "ebola=ebola.reset_index()\n",
    "ebola=ebola.drop('index', 1)"
   ]
  },
  {
   "cell_type": "code",
   "execution_count": 266,
   "metadata": {
    "scrolled": true
   },
   "outputs": [
    {
     "data": {
      "text/html": [
       "<div>\n",
       "<style>\n",
       "    .dataframe thead tr:only-child th {\n",
       "        text-align: right;\n",
       "    }\n",
       "\n",
       "    .dataframe thead th {\n",
       "        text-align: left;\n",
       "    }\n",
       "\n",
       "    .dataframe tbody tr th {\n",
       "        vertical-align: top;\n",
       "    }\n",
       "</style>\n",
       "<table border=\"1\" class=\"dataframe\">\n",
       "  <thead>\n",
       "    <tr style=\"text-align: right;\">\n",
       "      <th></th>\n",
       "      <th>guinea case</th>\n",
       "      <th>guinea death</th>\n",
       "      <th>liberia case</th>\n",
       "      <th>liberia death</th>\n",
       "      <th>sl case</th>\n",
       "      <th>sl death</th>\n",
       "    </tr>\n",
       "  </thead>\n",
       "  <tbody>\n",
       "    <tr>\n",
       "      <th>6</th>\n",
       "      <td>NaN</td>\n",
       "      <td>NaN</td>\n",
       "      <td>46.838150</td>\n",
       "      <td>18.473988</td>\n",
       "      <td>NaN</td>\n",
       "      <td>NaN</td>\n",
       "    </tr>\n",
       "    <tr>\n",
       "      <th>7</th>\n",
       "      <td>NaN</td>\n",
       "      <td>NaN</td>\n",
       "      <td>48.086705</td>\n",
       "      <td>18.531792</td>\n",
       "      <td>NaN</td>\n",
       "      <td>NaN</td>\n",
       "    </tr>\n",
       "    <tr>\n",
       "      <th>8</th>\n",
       "      <td>9.407407</td>\n",
       "      <td>4.666667</td>\n",
       "      <td>51.730061</td>\n",
       "      <td>19.668712</td>\n",
       "      <td>26.473684</td>\n",
       "      <td>6.947368</td>\n",
       "    </tr>\n",
       "    <tr>\n",
       "      <th>9</th>\n",
       "      <td>13.535714</td>\n",
       "      <td>7.607143</td>\n",
       "      <td>58.503067</td>\n",
       "      <td>19.883436</td>\n",
       "      <td>40.689655</td>\n",
       "      <td>5.310345</td>\n",
       "    </tr>\n",
       "    <tr>\n",
       "      <th>10</th>\n",
       "      <td>NaN</td>\n",
       "      <td>NaN</td>\n",
       "      <td>10.628319</td>\n",
       "      <td>23.115044</td>\n",
       "      <td>66.200000</td>\n",
       "      <td>28.500000</td>\n",
       "    </tr>\n",
       "    <tr>\n",
       "      <th>11</th>\n",
       "      <td>NaN</td>\n",
       "      <td>NaN</td>\n",
       "      <td>6.850000</td>\n",
       "      <td>22.600000</td>\n",
       "      <td>56.428571</td>\n",
       "      <td>15.000000</td>\n",
       "    </tr>\n",
       "    <tr>\n",
       "      <th>12</th>\n",
       "      <td>NaN</td>\n",
       "      <td>NaN</td>\n",
       "      <td>392.882353</td>\n",
       "      <td>24.579832</td>\n",
       "      <td>17.083333</td>\n",
       "      <td>31.800000</td>\n",
       "    </tr>\n",
       "  </tbody>\n",
       "</table>\n",
       "</div>"
      ],
      "text/plain": [
       "    guinea case  guinea death  liberia case  liberia death    sl case  \\\n",
       "6           NaN           NaN     46.838150      18.473988        NaN   \n",
       "7           NaN           NaN     48.086705      18.531792        NaN   \n",
       "8      9.407407      4.666667     51.730061      19.668712  26.473684   \n",
       "9     13.535714      7.607143     58.503067      19.883436  40.689655   \n",
       "10          NaN           NaN     10.628319      23.115044  66.200000   \n",
       "11          NaN           NaN      6.850000      22.600000  56.428571   \n",
       "12          NaN           NaN    392.882353      24.579832  17.083333   \n",
       "\n",
       "     sl death  \n",
       "6         NaN  \n",
       "7         NaN  \n",
       "8    6.947368  \n",
       "9    5.310345  \n",
       "10  28.500000  \n",
       "11  15.000000  \n",
       "12  31.800000  "
      ]
     },
     "execution_count": 266,
     "metadata": {},
     "output_type": "execute_result"
    }
   ],
   "source": [
    "data=ebola\n",
    "descriptions=['Description','Variable','variable']\n",
    "\n",
    "def equal(col,val):\n",
    "    return data[col]==val\n",
    "def contain(col,val,data=ebola):\n",
    "    return data[col].str.contains(val,case=False).fillna(False)\n",
    "\n",
    "def g_calc(g_deaths,g_cases):\n",
    "    g_deaths.sort_values(['Date'])\n",
    "    #print(g_deaths)\n",
    "    lower=g_deaths.head(1).reset_index()\n",
    "    upper=g_deaths.tail(1).reset_index()\n",
    "    days=(pd.to_datetime(upper['Date'],format='%Y-%m-%d').sub(pd.to_datetime(lower['Date'],format='%Y-%m-%d'))).dt.days\n",
    "    cnt=pd.to_numeric(upper['Totals'])-pd.to_numeric(lower['Totals'])\n",
    "    g_deaths=(cnt[0]/days[0])\n",
    "\n",
    "    g_cases.sort_values(['Date'])\n",
    "    #print(g_cases)\n",
    "    lower=g_cases.head(3).reset_index()\n",
    "    upper=g_cases.tail(3).reset_index()\n",
    "    days=(pd.to_datetime(upper['Date'],format='%Y-%m-%d').sub(pd.to_datetime(lower['Date'],format='%Y-%m-%d'))).dt.days\n",
    "    cnt=pd.to_numeric(upper['Totals'])-pd.to_numeric(lower['Totals'])\n",
    "    g_cases=(sum(cnt)/sum(days))*3\n",
    "    \n",
    "    return [g_deaths,g_cases]\n",
    "\n",
    "def l_calc(l_deaths,l_cases):\n",
    "    l_deaths.sort_values(['Date'])\n",
    "    #print(l_deaths)\n",
    "    lower=l_deaths.head(1).reset_index()\n",
    "    upper=l_deaths.tail(1).reset_index()\n",
    "    days=(pd.to_datetime(upper['Date'],format='%m/%d/%Y').sub(pd.to_datetime(lower['Date'],format='%m/%d/%Y'))).dt.days\n",
    "    cnt=pd.to_numeric(upper['National'])-pd.to_numeric(lower['National'])\n",
    "    l_deaths=(cnt[0]/days[0])\n",
    "\n",
    "    l_cases.sort_values(['Date'])\n",
    "    #print(l_cases)\n",
    "    lower=l_cases.head(1).reset_index()\n",
    "    upper=l_cases.tail(1).reset_index()\n",
    "    days=(pd.to_datetime(upper['Date'],format='%m/%d/%Y').sub(pd.to_datetime(lower['Date'],format='%m/%d/%Y'))).dt.days\n",
    "    cnt=sum(pd.to_numeric(l_cases['National'].fillna(0)))\n",
    "    l_cases=(cnt/days[0])\n",
    "    \n",
    "    return [l_deaths,l_cases]\n",
    "    \n",
    "def s_calc(s_deaths,s_cases):\n",
    "    s_deaths.sort_values(['date'])\n",
    "    s_deaths=s_deaths[s_deaths['National'].notnull()]\n",
    "    #print(s_deaths)\n",
    "    lower=s_deaths.head(3).reset_index()\n",
    "    upper=s_deaths.tail(3).reset_index()\n",
    "    days=(pd.to_datetime(upper['date'],format='%Y-%m-%d').sub(pd.to_datetime(lower['date'],format='%Y-%m-%d'))).dt.days\n",
    "    cnt=pd.to_numeric(upper['National'].fillna(0))-pd.to_numeric(lower['National'].fillna(0))\n",
    "    s_deaths=(sum(cnt)/sum(days))*3\n",
    "\n",
    "    s_cases.sort_values(['date'])\n",
    "    #print(s_cases)\n",
    "    lower=s_cases.head(3).reset_index()\n",
    "    upper=s_cases.tail(3).reset_index()\n",
    "    days=(pd.to_datetime(upper['date'],format='%Y-%m-%d').sub(pd.to_datetime(lower['date'],format='%Y-%m-%d'))).dt.days\n",
    "    cnt=sum(pd.to_numeric(s_cases['National'].fillna(0)))\n",
    "    s_cases=(cnt/sum(days))*3\n",
    "    \n",
    "    return [s_deaths,s_cases]\n",
    "\n",
    "\n",
    "g_deaths=equal('country','guinea_data')&contain('Description','Total deaths \\(confirmed \\+ probables \\+ suspects\\)')\n",
    "g_cases=equal('country','guinea_data')&contain('Description','Total cases')\n",
    "l_deaths=equal('country','liberia_data')&contain('Variable','Total death\\/s in confirmed\\,')\n",
    "l_cases=equal('country','liberia_data')&contain('Variable','new case')\n",
    "s_deaths=equal('country','sl_data')&contain('variable','death\\_')\n",
    "s_cases=equal('country','sl_data')&(contain('variable','new\\_suspected'))|(contain('variable','new\\_probable'))|(contain('variable','new\\_confirmed'))\n",
    "\n",
    "g_deaths=data[g_deaths].dropna(axis=1, how='all')\n",
    "g_cases=data[g_cases].dropna(axis=1, how='all')\n",
    "l_deaths=data[l_deaths].dropna(axis=1, how='all')\n",
    "l_cases=data[l_cases].dropna(axis=1, how='all')\n",
    "s_deaths=data[s_deaths].dropna(axis=1, how='all')\n",
    "s_cases=data[s_cases].dropna(axis=1, how='all')\n",
    "\n",
    "g_months=['-08-','-09-']\n",
    "l_months=['6','7','8','9','10','11','12']\n",
    "s_months=['-08-','-09-','-10-','-11-','-12-']\n",
    "\n",
    "g_d=[]\n",
    "g_c=[]\n",
    "for month in g_months:\n",
    "    g_d_month=g_deaths[contain('Date',month,g_deaths)]\n",
    "    g_c_month=g_cases[contain('Date',month,g_cases)]\n",
    "    g_val=g_calc(g_d_month,g_c_month)\n",
    "    g_d.append(g_val[0])\n",
    "    g_c.append(g_val[1])\n",
    "    \n",
    "l_d=[]\n",
    "l_c=[]\n",
    "for month in l_months:\n",
    "    l_d_month=l_deaths[contain('Date',month,l_deaths)]\n",
    "    l_c_month=l_cases[contain('Date',month,l_cases)]\n",
    "    l_val=l_calc(l_d_month,l_c_month)\n",
    "    l_d.append(l_val[0])\n",
    "    l_c.append(l_val[1])\n",
    "    \n",
    "s_d=[]\n",
    "s_c=[]\n",
    "for month in s_months:\n",
    "    s_d_month=s_deaths[contain('date',month,s_deaths)]\n",
    "    s_c_month=s_cases[contain('date',month,s_cases)]\n",
    "    s_val=s_calc(s_d_month,s_c_month)\n",
    "    s_d.append(s_val[0])\n",
    "    s_c.append(s_val[1])\n",
    "\n",
    "result=pd.DataFrame({'guinea death':g_d,'guinea case':g_c},index=[8,9]) \n",
    "result=pd.concat([result,pd.DataFrame({'liberia death':l_d,'liberia case':l_c},index=range(6,13))],axis=1)\n",
    "result=pd.concat([result,pd.DataFrame({'sl death':s_d,'sl case':s_c},index=range(8,13))],axis=1)\n",
    "result"
   ]
  },
  {
   "cell_type": "markdown",
   "metadata": {},
   "source": [
    "## Task 2. RNA Sequences\n",
    "\n",
    "In the `DATA_FOLDER/microbiome` subdirectory, there are 9 spreadsheets of microbiome data that was acquired from high-throughput RNA sequencing procedures, along with a 10<sup>th</sup> file that describes the content of each. \n",
    "\n",
    "Use pandas to import the first 9 spreadsheets into a single `DataFrame`.\n",
    "Then, add the metadata information from the 10<sup>th</sup> spreadsheet as columns in the combined `DataFrame`.\n",
    "Make sure that the final `DataFrame` has a unique index and all the `NaN` values have been replaced by the tag `unknown`."
   ]
  },
  {
   "cell_type": "code",
   "execution_count": 221,
   "metadata": {},
   "outputs": [],
   "source": [
    "# Write your answer here"
   ]
  },
  {
   "cell_type": "markdown",
   "metadata": {},
   "source": [
    "## Task 3. Class War in Titanic\n",
    "\n",
    "Use pandas to import the data file `Data/titanic.xls`. It contains data on all the passengers that travelled on the Titanic."
   ]
  },
  {
   "cell_type": "code",
   "execution_count": 91,
   "metadata": {
    "scrolled": false
   },
   "outputs": [],
   "source": [
    "from IPython.core.display import HTML\n",
    "#HTML(filename=DATA_FOLDER+'/titanic.html')"
   ]
  },
  {
   "cell_type": "markdown",
   "metadata": {},
   "source": [
    "For each of the following questions state clearly your assumptions and discuss your findings:\n",
    "1. Describe the *type* and the *value range* of each attribute. Indicate and transform the attributes that can be `Categorical`. \n",
    "2. Plot histograms for the *travel class*, *embarkation port*, *sex* and *age* attributes. For the latter one, use *discrete decade intervals*. \n",
    "3. Calculate the proportion of passengers by *cabin floor*. Present your results in a *pie chart*.\n",
    "4. For each *travel class*, calculate the proportion of the passengers that survived. Present your results in *pie charts*.\n",
    "5. Calculate the proportion of the passengers that survived by *travel class* and *sex*. Present your results in *a single histogram*.\n",
    "6. Create 2 equally populated *age categories* and calculate survival proportions by *age category*, *travel class* and *sex*. Present your results in a `DataFrame` with unique index."
   ]
  },
  {
   "cell_type": "code",
   "execution_count": 79,
   "metadata": {
    "scrolled": false
   },
   "outputs": [
    {
     "name": "stdout",
     "output_type": "stream",
     "text": [
      "pclass         int64\n",
      "survived       int64\n",
      "name          object\n",
      "sex           object\n",
      "age          float64\n",
      "sibsp          int64\n",
      "parch          int64\n",
      "ticket        object\n",
      "fare         float64\n",
      "cabin         object\n",
      "embarked      object\n",
      "boat          object\n",
      "body         float64\n",
      "home.dest     object\n",
      "dtype: object\n",
      "[1 2 3]\n"
     ]
    },
    {
     "data": {
      "image/png": "[encoded data removed]",
      "text/plain": [
       "<matplotlib.figure.Figure at 0x94349d0>"
      ]
     },
     "metadata": {},
     "output_type": "display_data"
    },
    {
     "name": "stdout",
     "output_type": "stream",
     "text": [
      "[ 29.       0.9167   2.      30.      25.      48.      63.      39.      53.\n",
      "  71.      47.      18.      24.      26.      80.          nan  50.      32.\n",
      "  36.      37.      42.      19.      35.      28.      45.      40.      58.\n",
      "  22.      41.      44.      59.      60.      33.      17.      11.      14.\n",
      "  49.      76.      46.      27.      64.      55.      70.      38.      51.\n",
      "  31.       4.      54.      23.      43.      52.      16.      32.5     21.\n",
      "  15.      65.      28.5     45.5     56.      13.      61.      34.       6.\n",
      "  57.      62.      67.       1.      12.      20.       0.8333   8.\n",
      "   0.6667   7.       3.      36.5     18.5      5.      66.       9.       0.75\n",
      "  70.5     22.5      0.3333   0.1667  40.5     10.      23.5     34.5     20.5\n",
      "  30.5     55.5     38.5     14.5     24.5     60.5     74.       0.4167\n",
      "  11.5     26.5   ]\n"
     ]
    },
    {
     "data": {
      "image/png": "[encoded data removed]",
      "text/plain": [
       "<matplotlib.figure.Figure at 0x92e0b10>"
      ]
     },
     "metadata": {},
     "output_type": "display_data"
    },
    {
     "name": "stdout",
     "output_type": "stream",
     "text": [
      "['female' 'male']\n"
     ]
    },
    {
     "data": {
      "image/png": "[encoded data removed]",
      "text/plain": [
       "<matplotlib.figure.Figure at 0x9411050>"
      ]
     },
     "metadata": {},
     "output_type": "display_data"
    },
    {
     "name": "stdout",
     "output_type": "stream",
     "text": [
      "['S' 'C' nan 'Q']\n"
     ]
    },
    {
     "data": {
      "image/png": "[encoded data removed]",
      "text/plain": [
       "<matplotlib.figure.Figure at 0x9480c30>"
      ]
     },
     "metadata": {},
     "output_type": "display_data"
    }
   ],
   "source": [
    "# Write your answer here\n",
    "import matplotlib.pyplot as plot\n",
    "titanic=pd.read_excel(DATA_FOLDER+'/titanic.xls')\n",
    "print(titanic.dtypes)\n",
    "def histogram(data,column):\n",
    "    uniques=data[column].unique()\n",
    "    print(uniques)\n",
    "    if(type(uniques[0])==type(\"\")):\n",
    "        uniques=uniques[pd.notnull(uniques)]\n",
    "        uniques.sort()\n",
    "    else:\n",
    "        uniques.sort()\n",
    "    hist=[]\n",
    "    for unique in uniques:\n",
    "        hist.append(sum(data[column]==unique))\n",
    "    if(type(uniques[0])==type(\"\")):\n",
    "        plot.bar(range(0,len(uniques)),hist)\n",
    "        plot.xticks(range(0,len(uniques)), uniques)\n",
    "    else:\n",
    "        plot.bar(uniques,hist)\n",
    "    plot.show()\n",
    "    return hist\n",
    "pclass_hist=histogram(titanic,'pclass')\n",
    "age_hist=histogram(titanic,'age')\n",
    "sex_hist=histogram(titanic,'sex')\n",
    "embarked_hist=histogram(titanic,'embarked')"
   ]
  },
  {
   "cell_type": "code",
   "execution_count": 70,
   "metadata": {},
   "outputs": [
    {
     "data": {
      "image/png": "[encoded data removed]",
      "text/plain": [
       "<matplotlib.figure.Figure at 0x94d8390>"
      ]
     },
     "metadata": {},
     "output_type": "display_data"
    },
    {
     "name": "stdout",
     "output_type": "stream",
     "text": [
      "['A10' 'A11' 'A14' 'A16' 'A18' 'A19' 'A20' 'A21' 'A23' 'A24' 'A26' 'A29'\n",
      " 'A31' 'A32' 'A34' 'A36' 'A5' 'A6' 'A7' 'A9' 'B10' 'B101' 'B102' 'B11'\n",
      " 'B18' 'B19' 'B20' 'B22' 'B24' 'B26' 'B28' 'B3' 'B30' 'B35' 'B36' 'B37'\n",
      " 'B38' 'B39' 'B4' 'B41' 'B42' 'B45' 'B49' 'B5' 'B50' 'B51 B53 B55'\n",
      " 'B52 B54 B56' 'B57 B59 B63 B66' 'B58 B60' 'B61' 'B69' 'B71' 'B73' 'B77'\n",
      " 'B78' 'B79' 'B80' 'B82 B84' 'B86' 'B94' 'B96 B98' 'C101' 'C103' 'C104'\n",
      " 'C105' 'C106' 'C110' 'C111' 'C116' 'C118' 'C123' 'C124' 'C125' 'C126'\n",
      " 'C128' 'C130' 'C132' 'C148' 'C2' 'C22 C26' 'C23 C25 C27' 'C28' 'C30' 'C31'\n",
      " 'C32' 'C39' 'C45' 'C46' 'C47' 'C49' 'C50' 'C51' 'C52' 'C53' 'C54'\n",
      " 'C55 C57' 'C6' 'C62 C64' 'C65' 'C68' 'C7' 'C70' 'C78' 'C80' 'C82' 'C83'\n",
      " 'C85' 'C86' 'C87' 'C89' 'C90' 'C91' 'C92' 'C93' 'C95' 'C97' 'C99' 'D'\n",
      " 'D10 D12' 'D11' 'D15' 'D17' 'D19' 'D20' 'D21' 'D22' 'D26' 'D28' 'D30'\n",
      " 'D33' 'D34' 'D35' 'D36' 'D37' 'D38' 'D40' 'D43' 'D45' 'D46' 'D47' 'D48'\n",
      " 'D49' 'D50' 'D56' 'D6' 'D7' 'D9' 'E10' 'E101' 'E12' 'E121' 'E17' 'E24'\n",
      " 'E25' 'E31' 'E33' 'E34' 'E36' 'E38' 'E39 E41' 'E40' 'E44' 'E45' 'E46'\n",
      " 'E49' 'E50' 'E52' 'E58' 'E60' 'E63' 'E67' 'E68' 'E77' 'E8' 'F' 'F E46'\n",
      " 'F E57' 'F E69' 'F G63' 'F G73' 'F2' 'F33' 'F38' 'F4' 'G6' 'T']\n"
     ]
    }
   ],
   "source": [
    "cabin=titanic['cabin'].unique()\n",
    "cabin=cabin[pd.notnull(cabin)]\n",
    "cabin.sort()\n",
    "cabinfloors=['A','B','C','D','E','F','G','T']\n",
    "number=[]\n",
    "total=0\n",
    "for cabinfloor in cabinfloors:\n",
    "    cabins=cabin[pd.Series(cabin).str.startswith(cabinfloor)]\n",
    "    cabtotal=0\n",
    "    for cab in cabins:\n",
    "        cabtotal+=sum(titanic['cabin']==cab)\n",
    "    number.append(cabtotal)\n",
    "    total+=cabtotal\n",
    "plot.pie(number,labels=cabinfloors)\n",
    "plot.show()\n",
    "print(cabin)"
   ]
  },
  {
   "cell_type": "code",
   "execution_count": 75,
   "metadata": {},
   "outputs": [
    {
     "data": {
      "image/png": "[encoded data removed]",
      "text/plain": [
       "<matplotlib.figure.Figure at 0x92d4ad0>"
      ]
     },
     "metadata": {},
     "output_type": "display_data"
    }
   ],
   "source": [
    "pclasses=titanic['pclass'].unique()\n",
    "pclasses.sort()\n",
    "percentages=[]\n",
    "for pclass in pclasses:\n",
    "    passengers=titanic[titanic['pclass']==pclass]\n",
    "    percentage=sum(passengers['survived']==1)\n",
    "    percentages.append(percentage)\n",
    "class_lol=percentages\n",
    "plot.pie(percentages,labels=pclasses)\n",
    "plot.show()"
   ]
  },
  {
   "cell_type": "code",
   "execution_count": 90,
   "metadata": {},
   "outputs": [
    {
     "name": "stdout",
     "output_type": "stream",
     "text": [
      "['female' 'male']\n"
     ]
    },
    {
     "data": {
      "image/png": "[encoded data removed]",
      "text/plain": [
       "<matplotlib.figure.Figure at 0x8c6c5b0>"
      ]
     },
     "metadata": {},
     "output_type": "display_data"
    },
    {
     "name": "stdout",
     "output_type": "stream",
     "text": [
      "[1 2 3]\n"
     ]
    },
    {
     "data": {
      "image/png": "[encoded data removed]",
      "text/plain": [
       "<matplotlib.figure.Figure at 0x49fc330>"
      ]
     },
     "metadata": {},
     "output_type": "display_data"
    },
    {
     "data": {
      "text/plain": [
       "[200, 119, 181]"
      ]
     },
     "execution_count": 90,
     "metadata": {},
     "output_type": "execute_result"
    }
   ],
   "source": [
    "histogram(titanic[titanic['survived']==1],'sex')\n",
    "histogram(titanic[titanic['survived']==1],'pclass')"
   ]
  },
  {
   "cell_type": "code",
   "execution_count": 89,
   "metadata": {},
   "outputs": [
    {
     "data": {
      "text/html": [
       "<div>\n",
       "<style>\n",
       "    .dataframe thead tr:only-child th {\n",
       "        text-align: right;\n",
       "    }\n",
       "\n",
       "    .dataframe thead th {\n",
       "        text-align: left;\n",
       "    }\n",
       "\n",
       "    .dataframe tbody tr th {\n",
       "        vertical-align: top;\n",
       "    }\n",
       "</style>\n",
       "<table border=\"1\" class=\"dataframe\">\n",
       "  <thead>\n",
       "    <tr style=\"text-align: right;\">\n",
       "      <th></th>\n",
       "      <th>survival rate</th>\n",
       "      <th>total</th>\n",
       "    </tr>\n",
       "  </thead>\n",
       "  <tbody>\n",
       "    <tr>\n",
       "      <th>age below 28</th>\n",
       "      <td>0.410448</td>\n",
       "      <td>536</td>\n",
       "    </tr>\n",
       "    <tr>\n",
       "      <th>age above 28</th>\n",
       "      <td>0.405882</td>\n",
       "      <td>510</td>\n",
       "    </tr>\n",
       "    <tr>\n",
       "      <th>female</th>\n",
       "      <td>0.727468</td>\n",
       "      <td>466</td>\n",
       "    </tr>\n",
       "    <tr>\n",
       "      <th>male</th>\n",
       "      <td>0.190985</td>\n",
       "      <td>843</td>\n",
       "    </tr>\n",
       "    <tr>\n",
       "      <th>1st class</th>\n",
       "      <td>0.619195</td>\n",
       "      <td>323</td>\n",
       "    </tr>\n",
       "    <tr>\n",
       "      <th>2nd class</th>\n",
       "      <td>0.429603</td>\n",
       "      <td>277</td>\n",
       "    </tr>\n",
       "    <tr>\n",
       "      <th>3rd class</th>\n",
       "      <td>0.255289</td>\n",
       "      <td>709</td>\n",
       "    </tr>\n",
       "  </tbody>\n",
       "</table>\n",
       "</div>"
      ],
      "text/plain": [
       "              survival rate  total\n",
       "age below 28       0.410448    536\n",
       "age above 28       0.405882    510\n",
       "female             0.727468    466\n",
       "male               0.190985    843\n",
       "1st class          0.619195    323\n",
       "2nd class          0.429603    277\n",
       "3rd class          0.255289    709"
      ]
     },
     "execution_count": 89,
     "metadata": {},
     "output_type": "execute_result"
    }
   ],
   "source": [
    "ages_median=titanic['age'].median()\n",
    "total=[]\n",
    "survival=[]\n",
    "def survive_lol(data):\n",
    "    t=data.shape[0]\n",
    "    s=sum(data['survived']==1)\n",
    "    total.append(t)\n",
    "    survival.append(s)\n",
    "\n",
    "survive_lol(titanic[titanic['age']<=ages_median])\n",
    "survive_lol(titanic[titanic['age']>ages_median])\n",
    "survive_lol(titanic[titanic['sex']=='female'])\n",
    "survive_lol(titanic[titanic['sex']=='male'])\n",
    "survive_lol(titanic[titanic['pclass']==1])\n",
    "survive_lol(titanic[titanic['pclass']==2])\n",
    "survive_lol(titanic[titanic['pclass']==3])\n",
    "\n",
    "d={\n",
    "    'survival rate':pd.Series([survival[i]/total[i] for i in range(0,len(total))],index=['age below 28','age above 28','female','male','1st class','2nd class','3rd class']),\n",
    "    'total':pd.Series(total,index=['age below 28','age above 28','female','male','1st class','2nd class','3rd class']),\n",
    "}\n",
    "lol=pd.DataFrame(d)\n",
    "lol"
   ]
  },
  {
   "cell_type": "code",
   "execution_count": null,
   "metadata": {},
   "outputs": [],
   "source": []
  }
 ],
 "metadata": {
  "kernelspec": {
   "display_name": "Python 3",
   "language": "python",
   "name": "python3"
  },
  "language_info": {
   "codemirror_mode": {
    "name": "ipython",
    "version": 3
   },
   "file_extension": ".py",
   "mimetype": "text/x-python",
   "name": "python",
   "nbconvert_exporter": "python",
   "pygments_lexer": "ipython3",
   "version": "3.6.2"
  }
 },
 "nbformat": 4,
 "nbformat_minor": 2
}
