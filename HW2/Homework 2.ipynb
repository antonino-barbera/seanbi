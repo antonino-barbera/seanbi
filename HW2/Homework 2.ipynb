{
 "cells": [
  {
   "cell_type": "markdown",
   "metadata": {},
   "source": [
    "# 02 - Data from the Web\n",
    "\n",
    "## Deadline\n",
    "Wednesday October 25, 2017 at 11:59PM\n",
    "\n",
    "## Important Notes\n",
    "* Make sure you push on GitHub your Notebook with all the cells already evaluated (i.e., you don't want your colleagues to generate unnecessary Web traffic during the peer review)\n",
    "* Don't forget to add a textual description of your thought process, the assumptions you made, and the solution you plan to implement!\n",
    "* Please write all your comments in English, and use meaningful variable names in your code.\n",
    "\n",
    "## Background\n",
    "In this homework we will extract interesting information from www.topuniversities.com and www.timeshighereducation.com, two platforms that maintain a global ranking of worldwide universities. This ranking is not offered as a downloadable dataset, so you will have to find a way to scrape the information we need!\n",
    "You are not allowed to download manually the entire ranking -- rather you have to understand how the server loads it in your browser. For this task, Postman with the Interceptor extension can help you greatly. We recommend that you watch this [brief tutorial](https://www.youtube.com/watch?v=jBjXVrS8nXs&list=PLM-7VG-sgbtD8qBnGeQM5nvlpqB_ktaLZ&autoplay=1) to understand quickly how to use it.\n",
    "\n",
    "## Assignment\n",
    "1. Obtain the 200 top-ranking universities in www.topuniversities.com ([ranking 2018](https://www.topuniversities.com/university-rankings/world-university-rankings/2018)). In particular, extract the following fields for each university: name, rank, country and region, number of faculty members (international and total) and number of students (international and total). Some information is not available in the main list and you have to find them in the [details page](https://www.topuniversities.com/universities/ecole-polytechnique-fédérale-de-lausanne-epfl).\n",
    "Store the resulting dataset in a pandas DataFrame and answer the following questions:\n",
    "    - Which are the best universities in term of: (a) ratio between faculty members and students, (b) ratio of international students?\n",
    "    - Answer the previous question aggregating the data by (c) country and (d) region.\n",
    "\n",
    "Plot your data using bar charts and describe briefly what you observed.\n",
    "\n",
    "2. Obtain the 200 top-ranking universities in www.timeshighereducation.com ([ranking 2018](http://timeshighereducation.com/world-university-rankings/2018/world-ranking)). Repeat the analysis of the previous point and discuss briefly what you observed.\n",
    "\n",
    "3. Merge the two DataFrames created in questions 1 and 2 using university names. Match universities' names as well as you can, and explain your strategy. Keep track of the original position in both rankings.\n",
    "\n",
    "4. Find useful insights in the data by performing an exploratory analysis. Can you find a strong correlation between any pair of variables in the dataset you just created? Example: when a university is strong in its international dimension, can you observe a consistency both for students and faculty members?\n",
    "\n",
    "5. Can you find the best university taking in consideration both rankings? Explain your approach.\n",
    "\n",
    "Hints:\n",
    "- Keep your Notebook clean and don't print the verbose output of the requests if this does not add useful information for the reader.\n",
    "- In case of tie, use the order defined in the webpage."
   ]
  },
  {
   "cell_type": "code",
   "execution_count": 1,
   "metadata": {
    "collapsed": true
   },
   "outputs": [],
   "source": [
    "import requests\n",
    "from bs4 import BeautifulSoup\n",
    "import pandas as pd\n",
    "%matplotlib inline"
   ]
  },
  {
   "cell_type": "markdown",
   "metadata": {},
   "source": [
    "This is run only first time to collect the data. Data is later saved to binary file and loaded from file on PC"
   ]
  },
  {
   "cell_type": "code",
   "execution_count": 2,
   "metadata": {
    "collapsed": true
   },
   "outputs": [],
   "source": [
    "#file that was discovered using Interceptor\n",
    "url = 'https://www.topuniversities.com/sites/default/files/qs-rankings-data/357051.txt'\n",
    "\n",
    "#get the data\n",
    "r = requests.get(url)\n",
    "\n",
    "#get first 200 universities\n",
    "data = r.json()['data'][:200]\n",
    "universities = []\n",
    "\n",
    "#for every university extract required fileds\n",
    "#and use BeautifulSoup and university url to get additional info(number of faculty members and number of students)\n",
    "for u in data:\n",
    "    university = {\n",
    "        'name': u['title'],\n",
    "        'rank': u['rank_display'],\n",
    "        'country': u['country'],\n",
    "        'region': u['region']\n",
    "    }\n",
    "    r = requests.get('https://www.topuniversities.com/'+u['url'])\n",
    "    soup = BeautifulSoup(r.text, 'html.parser')\n",
    "    \n",
    "    faculty_total_div = soup.find('div', class_='total faculty')\n",
    "    if faculty_total_div != None:\n",
    "        university['faculty_total'] = faculty_total_div.find('div', class_='number').text.replace('\\n', '').replace(',', '')\n",
    "    \n",
    "    faculty_int_div = soup.find('div', class_='inter faculty')\n",
    "    if faculty_int_div != None:\n",
    "        university['faculty_international'] = faculty_int_div.find('div', class_='number').text.replace('\\n', '').replace(',', '')\n",
    "        \n",
    "    student_total_div = soup.find('div', class_='total student')\n",
    "    if student_total_div != None:\n",
    "        university['students_total'] = student_total_div.find('div', class_='number').text.replace('\\n', '').replace(',', '')\n",
    "        \n",
    "    student_int_div = soup.find('div', class_='total inter')\n",
    "    if student_int_div != None:\n",
    "        university['students_international'] = student_int_div.find('div', class_='number').text.replace('\\n', '').replace(',', '')\n",
    "    \n",
    "    universities.append(university)\n"
   ]
  },
  {
   "cell_type": "code",
   "execution_count": 5,
   "metadata": {},
   "outputs": [],
   "source": [
    "#create dataframe and convert following column values to float \n",
    "#we use float because some values have NaN value, which is not supported with int\n",
    "df = pd.DataFrame(universities)\n",
    "df['faculty_total'] = df ['faculty_total'].astype(float)\n",
    "df['faculty_international'] = df ['faculty_international'].astype(float)\n",
    "df['students_total'] = df ['students_total'].astype(float)\n",
    "df['students_international'] = df ['students_international'].astype(float)\n",
    "#save dataframe as binary file\n",
    "df.to_pickle(\"topuniversities\")"
   ]
  },
  {
   "cell_type": "code",
   "execution_count": 2,
   "metadata": {},
   "outputs": [
    {
     "data": {
      "text/html": [
       "<div>\n",
       "<style>\n",
       "    .dataframe thead tr:only-child th {\n",
       "        text-align: right;\n",
       "    }\n",
       "\n",
       "    .dataframe thead th {\n",
       "        text-align: left;\n",
       "    }\n",
       "\n",
       "    .dataframe tbody tr th {\n",
       "        vertical-align: top;\n",
       "    }\n",
       "</style>\n",
       "<table border=\"1\" class=\"dataframe\">\n",
       "  <thead>\n",
       "    <tr style=\"text-align: right;\">\n",
       "      <th></th>\n",
       "      <th>country</th>\n",
       "      <th>faculty_international</th>\n",
       "      <th>faculty_total</th>\n",
       "      <th>name</th>\n",
       "      <th>rank</th>\n",
       "      <th>region</th>\n",
       "      <th>students_international</th>\n",
       "      <th>students_total</th>\n",
       "    </tr>\n",
       "  </thead>\n",
       "  <tbody>\n",
       "    <tr>\n",
       "      <th>0</th>\n",
       "      <td>United States</td>\n",
       "      <td>1679.0</td>\n",
       "      <td>2982.0</td>\n",
       "      <td>Massachusetts Institute of Technology (MIT)</td>\n",
       "      <td>1</td>\n",
       "      <td>North America</td>\n",
       "      <td>3717.0</td>\n",
       "      <td>11067.0</td>\n",
       "    </tr>\n",
       "    <tr>\n",
       "      <th>1</th>\n",
       "      <td>United States</td>\n",
       "      <td>2042.0</td>\n",
       "      <td>4285.0</td>\n",
       "      <td>Stanford University</td>\n",
       "      <td>2</td>\n",
       "      <td>North America</td>\n",
       "      <td>3611.0</td>\n",
       "      <td>15878.0</td>\n",
       "    </tr>\n",
       "    <tr>\n",
       "      <th>2</th>\n",
       "      <td>United States</td>\n",
       "      <td>1311.0</td>\n",
       "      <td>4350.0</td>\n",
       "      <td>Harvard University</td>\n",
       "      <td>3</td>\n",
       "      <td>North America</td>\n",
       "      <td>5266.0</td>\n",
       "      <td>22429.0</td>\n",
       "    </tr>\n",
       "    <tr>\n",
       "      <th>3</th>\n",
       "      <td>United States</td>\n",
       "      <td>350.0</td>\n",
       "      <td>953.0</td>\n",
       "      <td>California Institute of Technology (Caltech)</td>\n",
       "      <td>4</td>\n",
       "      <td>North America</td>\n",
       "      <td>647.0</td>\n",
       "      <td>2255.0</td>\n",
       "    </tr>\n",
       "    <tr>\n",
       "      <th>4</th>\n",
       "      <td>United Kingdom</td>\n",
       "      <td>2278.0</td>\n",
       "      <td>5490.0</td>\n",
       "      <td>University of Cambridge</td>\n",
       "      <td>5</td>\n",
       "      <td>Europe</td>\n",
       "      <td>6699.0</td>\n",
       "      <td>18770.0</td>\n",
       "    </tr>\n",
       "  </tbody>\n",
       "</table>\n",
       "</div>"
      ],
      "text/plain": [
       "          country  faculty_international  faculty_total  \\\n",
       "0   United States                 1679.0         2982.0   \n",
       "1   United States                 2042.0         4285.0   \n",
       "2   United States                 1311.0         4350.0   \n",
       "3   United States                  350.0          953.0   \n",
       "4  United Kingdom                 2278.0         5490.0   \n",
       "\n",
       "                                           name rank         region  \\\n",
       "0   Massachusetts Institute of Technology (MIT)    1  North America   \n",
       "1                           Stanford University    2  North America   \n",
       "2                            Harvard University    3  North America   \n",
       "3  California Institute of Technology (Caltech)    4  North America   \n",
       "4                       University of Cambridge    5         Europe   \n",
       "\n",
       "   students_international  students_total  \n",
       "0                  3717.0         11067.0  \n",
       "1                  3611.0         15878.0  \n",
       "2                  5266.0         22429.0  \n",
       "3                   647.0          2255.0  \n",
       "4                  6699.0         18770.0  "
      ]
     },
     "execution_count": 2,
     "metadata": {},
     "output_type": "execute_result"
    }
   ],
   "source": [
    "#load dataframe from binary file\n",
    "df = pd.DataFrame()\n",
    "df = pd.read_pickle('topuniversities')\n",
    "df.head()"
   ]
  },
  {
   "cell_type": "markdown",
   "metadata": {},
   "source": [
    "Now let's see which university is the best based on ratio between faculty members and students."
   ]
  },
  {
   "cell_type": "code",
   "execution_count": 12,
   "metadata": {},
   "outputs": [
    {
     "data": {
      "text/html": [
       "<div>\n",
       "<style>\n",
       "    .dataframe thead tr:only-child th {\n",
       "        text-align: right;\n",
       "    }\n",
       "\n",
       "    .dataframe thead th {\n",
       "        text-align: left;\n",
       "    }\n",
       "\n",
       "    .dataframe tbody tr th {\n",
       "        vertical-align: top;\n",
       "    }\n",
       "</style>\n",
       "<table border=\"1\" class=\"dataframe\">\n",
       "  <thead>\n",
       "    <tr style=\"text-align: right;\">\n",
       "      <th></th>\n",
       "      <th>name</th>\n",
       "      <th>faculty_total</th>\n",
       "      <th>students_total</th>\n",
       "      <th>faculty_students_ratio</th>\n",
       "    </tr>\n",
       "  </thead>\n",
       "  <tbody>\n",
       "    <tr>\n",
       "      <th>3</th>\n",
       "      <td>California Institute of Technology (Caltech)</td>\n",
       "      <td>953.0</td>\n",
       "      <td>2255.0</td>\n",
       "      <td>0.422616</td>\n",
       "    </tr>\n",
       "    <tr>\n",
       "      <th>15</th>\n",
       "      <td>Yale University</td>\n",
       "      <td>4940.0</td>\n",
       "      <td>12402.0</td>\n",
       "      <td>0.398323</td>\n",
       "    </tr>\n",
       "    <tr>\n",
       "      <th>5</th>\n",
       "      <td>University of Oxford</td>\n",
       "      <td>6750.0</td>\n",
       "      <td>19720.0</td>\n",
       "      <td>0.342292</td>\n",
       "    </tr>\n",
       "    <tr>\n",
       "      <th>4</th>\n",
       "      <td>University of Cambridge</td>\n",
       "      <td>5490.0</td>\n",
       "      <td>18770.0</td>\n",
       "      <td>0.292488</td>\n",
       "    </tr>\n",
       "    <tr>\n",
       "      <th>16</th>\n",
       "      <td>Johns Hopkins University</td>\n",
       "      <td>4462.0</td>\n",
       "      <td>16146.0</td>\n",
       "      <td>0.276353</td>\n",
       "    </tr>\n",
       "  </tbody>\n",
       "</table>\n",
       "</div>"
      ],
      "text/plain": [
       "                                            name  faculty_total  \\\n",
       "3   California Institute of Technology (Caltech)          953.0   \n",
       "15                               Yale University         4940.0   \n",
       "5                           University of Oxford         6750.0   \n",
       "4                        University of Cambridge         5490.0   \n",
       "16                      Johns Hopkins University         4462.0   \n",
       "\n",
       "    students_total  faculty_students_ratio  \n",
       "3           2255.0                0.422616  \n",
       "15         12402.0                0.398323  \n",
       "5          19720.0                0.342292  \n",
       "4          18770.0                0.292488  \n",
       "16         16146.0                0.276353  "
      ]
     },
     "execution_count": 12,
     "metadata": {},
     "output_type": "execute_result"
    }
   ],
   "source": [
    "faculty_students_ratio = df['faculty_total']/df['students_total']\n",
    "df[['name', 'faculty_total', 'students_total']].\\\n",
    "assign(faculty_students_ratio = faculty_students_ratio.values).sort_values('faculty_students_ratio', ascending=False).head()"
   ]
  },
  {
   "cell_type": "markdown",
   "metadata": {},
   "source": [
    "We can see that the best university is California Institute of Technology (Caltech).\n",
    "Now let's see which university is the best in term of ratio of international students."
   ]
  },
  {
   "cell_type": "code",
   "execution_count": 14,
   "metadata": {},
   "outputs": [
    {
     "data": {
      "text/html": [
       "<div>\n",
       "<style>\n",
       "    .dataframe thead tr:only-child th {\n",
       "        text-align: right;\n",
       "    }\n",
       "\n",
       "    .dataframe thead th {\n",
       "        text-align: left;\n",
       "    }\n",
       "\n",
       "    .dataframe tbody tr th {\n",
       "        vertical-align: top;\n",
       "    }\n",
       "</style>\n",
       "<table border=\"1\" class=\"dataframe\">\n",
       "  <thead>\n",
       "    <tr style=\"text-align: right;\">\n",
       "      <th></th>\n",
       "      <th>name</th>\n",
       "      <th>students_international</th>\n",
       "      <th>students_total</th>\n",
       "      <th>int_students_ratio</th>\n",
       "    </tr>\n",
       "  </thead>\n",
       "  <tbody>\n",
       "    <tr>\n",
       "      <th>34</th>\n",
       "      <td>London School of Economics and Political Scien...</td>\n",
       "      <td>6748.0</td>\n",
       "      <td>9760.0</td>\n",
       "      <td>0.691393</td>\n",
       "    </tr>\n",
       "    <tr>\n",
       "      <th>11</th>\n",
       "      <td>Ecole Polytechnique Fédérale de Lausanne (EPFL)</td>\n",
       "      <td>5896.0</td>\n",
       "      <td>10343.0</td>\n",
       "      <td>0.570047</td>\n",
       "    </tr>\n",
       "    <tr>\n",
       "      <th>7</th>\n",
       "      <td>Imperial College London</td>\n",
       "      <td>8746.0</td>\n",
       "      <td>16090.0</td>\n",
       "      <td>0.543567</td>\n",
       "    </tr>\n",
       "    <tr>\n",
       "      <th>198</th>\n",
       "      <td>Maastricht University</td>\n",
       "      <td>8234.0</td>\n",
       "      <td>16385.0</td>\n",
       "      <td>0.502533</td>\n",
       "    </tr>\n",
       "    <tr>\n",
       "      <th>47</th>\n",
       "      <td>Carnegie Mellon University</td>\n",
       "      <td>6385.0</td>\n",
       "      <td>13356.0</td>\n",
       "      <td>0.478062</td>\n",
       "    </tr>\n",
       "  </tbody>\n",
       "</table>\n",
       "</div>"
      ],
      "text/plain": [
       "                                                  name  \\\n",
       "34   London School of Economics and Political Scien...   \n",
       "11     Ecole Polytechnique Fédérale de Lausanne (EPFL)   \n",
       "7                              Imperial College London   \n",
       "198                              Maastricht University   \n",
       "47                          Carnegie Mellon University   \n",
       "\n",
       "     students_international  students_total  int_students_ratio  \n",
       "34                   6748.0          9760.0            0.691393  \n",
       "11                   5896.0         10343.0            0.570047  \n",
       "7                    8746.0         16090.0            0.543567  \n",
       "198                  8234.0         16385.0            0.502533  \n",
       "47                   6385.0         13356.0            0.478062  "
      ]
     },
     "execution_count": 14,
     "metadata": {},
     "output_type": "execute_result"
    }
   ],
   "source": [
    "int_students_ratio = df['students_international']/df['students_total']\n",
    "df[['name', 'students_international', 'students_total']].\\\n",
    "assign(int_students_ratio = int_students_ratio.values).sort_values('int_students_ratio', ascending=False).head()"
   ]
  },
  {
   "cell_type": "markdown",
   "metadata": {},
   "source": [
    "We can see that the best university in terms of ratio of international students is London School of Economics and Political Science. And of course in second place is EPFL :)"
   ]
  },
  {
   "cell_type": "markdown",
   "metadata": {},
   "source": [
    "Now let's see which country has best faculty members-students ratio."
   ]
  },
  {
   "cell_type": "code",
   "execution_count": 54,
   "metadata": {},
   "outputs": [
    {
     "data": {
      "text/html": [
       "<div>\n",
       "<style>\n",
       "    .dataframe thead tr:only-child th {\n",
       "        text-align: right;\n",
       "    }\n",
       "\n",
       "    .dataframe thead th {\n",
       "        text-align: left;\n",
       "    }\n",
       "\n",
       "    .dataframe tbody tr th {\n",
       "        vertical-align: top;\n",
       "    }\n",
       "</style>\n",
       "<table border=\"1\" class=\"dataframe\">\n",
       "  <thead>\n",
       "    <tr style=\"text-align: right;\">\n",
       "      <th></th>\n",
       "      <th>faculty_international</th>\n",
       "      <th>faculty_total</th>\n",
       "      <th>students_international</th>\n",
       "      <th>students_total</th>\n",
       "      <th>faculty_students_ratio</th>\n",
       "    </tr>\n",
       "    <tr>\n",
       "      <th>country</th>\n",
       "      <th></th>\n",
       "      <th></th>\n",
       "      <th></th>\n",
       "      <th></th>\n",
       "      <th></th>\n",
       "    </tr>\n",
       "  </thead>\n",
       "  <tbody>\n",
       "    <tr>\n",
       "      <th>Russia</th>\n",
       "      <td>373.0</td>\n",
       "      <td>6709.0</td>\n",
       "      <td>5098.0</td>\n",
       "      <td>30233.0</td>\n",
       "      <td>0.221910</td>\n",
       "    </tr>\n",
       "    <tr>\n",
       "      <th>Denmark</th>\n",
       "      <td>3904.0</td>\n",
       "      <td>11916.0</td>\n",
       "      <td>9543.0</td>\n",
       "      <td>67223.0</td>\n",
       "      <td>0.177261</td>\n",
       "    </tr>\n",
       "    <tr>\n",
       "      <th>Saudi Arabia</th>\n",
       "      <td>665.0</td>\n",
       "      <td>1062.0</td>\n",
       "      <td>989.0</td>\n",
       "      <td>6040.0</td>\n",
       "      <td>0.175828</td>\n",
       "    </tr>\n",
       "    <tr>\n",
       "      <th>Singapore</th>\n",
       "      <td>6079.0</td>\n",
       "      <td>9444.0</td>\n",
       "      <td>16168.0</td>\n",
       "      <td>58466.0</td>\n",
       "      <td>0.161530</td>\n",
       "    </tr>\n",
       "    <tr>\n",
       "      <th>Malaysia</th>\n",
       "      <td>655.0</td>\n",
       "      <td>2755.0</td>\n",
       "      <td>3476.0</td>\n",
       "      <td>17902.0</td>\n",
       "      <td>0.153893</td>\n",
       "    </tr>\n",
       "  </tbody>\n",
       "</table>\n",
       "</div>"
      ],
      "text/plain": [
       "              faculty_international  faculty_total  students_international  \\\n",
       "country                                                                      \n",
       "Russia                        373.0         6709.0                  5098.0   \n",
       "Denmark                      3904.0        11916.0                  9543.0   \n",
       "Saudi Arabia                  665.0         1062.0                   989.0   \n",
       "Singapore                    6079.0         9444.0                 16168.0   \n",
       "Malaysia                      655.0         2755.0                  3476.0   \n",
       "\n",
       "              students_total  faculty_students_ratio  \n",
       "country                                               \n",
       "Russia               30233.0                0.221910  \n",
       "Denmark              67223.0                0.177261  \n",
       "Saudi Arabia          6040.0                0.175828  \n",
       "Singapore            58466.0                0.161530  \n",
       "Malaysia             17902.0                0.153893  "
      ]
     },
     "execution_count": 54,
     "metadata": {},
     "output_type": "execute_result"
    }
   ],
   "source": [
    "by_country = df.groupby('country').sum().copy()\n",
    "by_country_ratio1 = by_country.assign(faculty_students_ratio = by_country['faculty_total']/by_country['students_total']).\\\n",
    "sort_values('faculty_students_ratio', ascending = False)\n",
    "by_country_ratio1.head()"
   ]
  },
  {
   "cell_type": "code",
   "execution_count": 55,
   "metadata": {},
   "outputs": [
    {
     "data": {
      "text/plain": [
       "<matplotlib.axes._subplots.AxesSubplot at 0x119baaf98>"
      ]
     },
     "execution_count": 55,
     "metadata": {},
     "output_type": "execute_result"
    },
    {
     "data": {
      "image/png": "[encoded data removed]",
      "text/plain": [
       "<matplotlib.figure.Figure at 0x119769908>"
      ]
     },
     "metadata": {},
     "output_type": "display_data"
    }
   ],
   "source": [
    "by_country_ratio1.drop(['faculty_international', 'faculty_total', 'students_international', 'students_total'], axis=1).plot.bar()"
   ]
  },
  {
   "cell_type": "markdown",
   "metadata": {},
   "source": [
    "We can see that in firts place is Russia. And now lets see which country has best international students ratio."
   ]
  },
  {
   "cell_type": "code",
   "execution_count": 56,
   "metadata": {},
   "outputs": [
    {
     "data": {
      "text/html": [
       "<div>\n",
       "<style>\n",
       "    .dataframe thead tr:only-child th {\n",
       "        text-align: right;\n",
       "    }\n",
       "\n",
       "    .dataframe thead th {\n",
       "        text-align: left;\n",
       "    }\n",
       "\n",
       "    .dataframe tbody tr th {\n",
       "        vertical-align: top;\n",
       "    }\n",
       "</style>\n",
       "<table border=\"1\" class=\"dataframe\">\n",
       "  <thead>\n",
       "    <tr style=\"text-align: right;\">\n",
       "      <th></th>\n",
       "      <th>faculty_international</th>\n",
       "      <th>faculty_total</th>\n",
       "      <th>students_international</th>\n",
       "      <th>students_total</th>\n",
       "      <th>int_students_ratio</th>\n",
       "    </tr>\n",
       "    <tr>\n",
       "      <th>country</th>\n",
       "      <th></th>\n",
       "      <th></th>\n",
       "      <th></th>\n",
       "      <th></th>\n",
       "      <th></th>\n",
       "    </tr>\n",
       "  </thead>\n",
       "  <tbody>\n",
       "    <tr>\n",
       "      <th>Australia</th>\n",
       "      <td>11382.0</td>\n",
       "      <td>22034.0</td>\n",
       "      <td>106359.0</td>\n",
       "      <td>301994.0</td>\n",
       "      <td>0.352189</td>\n",
       "    </tr>\n",
       "    <tr>\n",
       "      <th>United Kingdom</th>\n",
       "      <td>30216.0</td>\n",
       "      <td>79934.0</td>\n",
       "      <td>199426.0</td>\n",
       "      <td>583621.0</td>\n",
       "      <td>0.341705</td>\n",
       "    </tr>\n",
       "    <tr>\n",
       "      <th>Hong Kong</th>\n",
       "      <td>6296.0</td>\n",
       "      <td>10166.0</td>\n",
       "      <td>24499.0</td>\n",
       "      <td>78838.0</td>\n",
       "      <td>0.310751</td>\n",
       "    </tr>\n",
       "    <tr>\n",
       "      <th>Austria</th>\n",
       "      <td>1572.0</td>\n",
       "      <td>4117.0</td>\n",
       "      <td>19667.0</td>\n",
       "      <td>63446.0</td>\n",
       "      <td>0.309980</td>\n",
       "    </tr>\n",
       "    <tr>\n",
       "      <th>Switzerland</th>\n",
       "      <td>9208.0</td>\n",
       "      <td>15323.0</td>\n",
       "      <td>32995.0</td>\n",
       "      <td>109112.0</td>\n",
       "      <td>0.302396</td>\n",
       "    </tr>\n",
       "  </tbody>\n",
       "</table>\n",
       "</div>"
      ],
      "text/plain": [
       "                faculty_international  faculty_total  students_international  \\\n",
       "country                                                                        \n",
       "Australia                     11382.0        22034.0                106359.0   \n",
       "United Kingdom                30216.0        79934.0                199426.0   \n",
       "Hong Kong                      6296.0        10166.0                 24499.0   \n",
       "Austria                        1572.0         4117.0                 19667.0   \n",
       "Switzerland                    9208.0        15323.0                 32995.0   \n",
       "\n",
       "                students_total  int_students_ratio  \n",
       "country                                             \n",
       "Australia             301994.0            0.352189  \n",
       "United Kingdom        583621.0            0.341705  \n",
       "Hong Kong              78838.0            0.310751  \n",
       "Austria                63446.0            0.309980  \n",
       "Switzerland           109112.0            0.302396  "
      ]
     },
     "execution_count": 56,
     "metadata": {},
     "output_type": "execute_result"
    }
   ],
   "source": [
    "by_country_ratio2 = by_country.assign(int_students_ratio = by_country['students_international']/by_country['students_total']).\\\n",
    "sort_values('int_students_ratio', ascending = False)\n",
    "by_country_ratio2.head()"
   ]
  },
  {
   "cell_type": "code",
   "execution_count": 57,
   "metadata": {},
   "outputs": [
    {
     "data": {
      "text/plain": [
       "<matplotlib.axes._subplots.AxesSubplot at 0x119bb0048>"
      ]
     },
     "execution_count": 57,
     "metadata": {},
     "output_type": "execute_result"
    },
    {
     "data": {
      "image/png": "[encoded data removed]",
      "text/plain": [
       "<matplotlib.figure.Figure at 0x119e44eb8>"
      ]
     },
     "metadata": {},
     "output_type": "display_data"
    }
   ],
   "source": [
    "by_country_ratio2.drop(['faculty_international', 'faculty_total', 'students_international', 'students_total'], axis=1).plot.bar()"
   ]
  },
  {
   "cell_type": "markdown",
   "metadata": {},
   "source": [
    "We can see that in firts place is Australia, with 106359 international students and ratio of 0.352189. Switzerland is in fifth place. Now let's calculate the same thing, but grouped by region."
   ]
  },
  {
   "cell_type": "code",
   "execution_count": 60,
   "metadata": {},
   "outputs": [
    {
     "data": {
      "text/html": [
       "<div>\n",
       "<style>\n",
       "    .dataframe thead tr:only-child th {\n",
       "        text-align: right;\n",
       "    }\n",
       "\n",
       "    .dataframe thead th {\n",
       "        text-align: left;\n",
       "    }\n",
       "\n",
       "    .dataframe tbody tr th {\n",
       "        vertical-align: top;\n",
       "    }\n",
       "</style>\n",
       "<table border=\"1\" class=\"dataframe\">\n",
       "  <thead>\n",
       "    <tr style=\"text-align: right;\">\n",
       "      <th></th>\n",
       "      <th>faculty_international</th>\n",
       "      <th>faculty_total</th>\n",
       "      <th>students_international</th>\n",
       "      <th>students_total</th>\n",
       "      <th>faculty_students_ratio</th>\n",
       "    </tr>\n",
       "    <tr>\n",
       "      <th>region</th>\n",
       "      <th></th>\n",
       "      <th></th>\n",
       "      <th></th>\n",
       "      <th></th>\n",
       "      <th></th>\n",
       "    </tr>\n",
       "  </thead>\n",
       "  <tbody>\n",
       "    <tr>\n",
       "      <th>Asia</th>\n",
       "      <td>25462.0</td>\n",
       "      <td>106734.0</td>\n",
       "      <td>110100.0</td>\n",
       "      <td>807003.0</td>\n",
       "      <td>0.132260</td>\n",
       "    </tr>\n",
       "    <tr>\n",
       "      <th>North America</th>\n",
       "      <td>43836.0</td>\n",
       "      <td>182123.0</td>\n",
       "      <td>292116.0</td>\n",
       "      <td>1546353.0</td>\n",
       "      <td>0.117776</td>\n",
       "    </tr>\n",
       "    <tr>\n",
       "      <th>Europe</th>\n",
       "      <td>67598.0</td>\n",
       "      <td>218358.0</td>\n",
       "      <td>449364.0</td>\n",
       "      <td>1957251.0</td>\n",
       "      <td>0.111564</td>\n",
       "    </tr>\n",
       "    <tr>\n",
       "      <th>Latin America</th>\n",
       "      <td>5648.0</td>\n",
       "      <td>45382.0</td>\n",
       "      <td>36871.0</td>\n",
       "      <td>435750.0</td>\n",
       "      <td>0.104147</td>\n",
       "    </tr>\n",
       "    <tr>\n",
       "      <th>Africa</th>\n",
       "      <td>379.0</td>\n",
       "      <td>1733.0</td>\n",
       "      <td>3325.0</td>\n",
       "      <td>19593.0</td>\n",
       "      <td>0.088450</td>\n",
       "    </tr>\n",
       "    <tr>\n",
       "      <th>Oceania</th>\n",
       "      <td>12786.0</td>\n",
       "      <td>25347.0</td>\n",
       "      <td>118798.0</td>\n",
       "      <td>350167.0</td>\n",
       "      <td>0.072385</td>\n",
       "    </tr>\n",
       "  </tbody>\n",
       "</table>\n",
       "</div>"
      ],
      "text/plain": [
       "               faculty_international  faculty_total  students_international  \\\n",
       "region                                                                        \n",
       "Asia                         25462.0       106734.0                110100.0   \n",
       "North America                43836.0       182123.0                292116.0   \n",
       "Europe                       67598.0       218358.0                449364.0   \n",
       "Latin America                 5648.0        45382.0                 36871.0   \n",
       "Africa                         379.0         1733.0                  3325.0   \n",
       "Oceania                      12786.0        25347.0                118798.0   \n",
       "\n",
       "               students_total  faculty_students_ratio  \n",
       "region                                                 \n",
       "Asia                 807003.0                0.132260  \n",
       "North America       1546353.0                0.117776  \n",
       "Europe              1957251.0                0.111564  \n",
       "Latin America        435750.0                0.104147  \n",
       "Africa                19593.0                0.088450  \n",
       "Oceania              350167.0                0.072385  "
      ]
     },
     "execution_count": 60,
     "metadata": {},
     "output_type": "execute_result"
    }
   ],
   "source": [
    "by_region = df.groupby('region').sum().copy()\n",
    "by_region_ratio1 = by_region.assign(faculty_students_ratio = by_region['faculty_total']/by_region['students_total']).\\\n",
    "sort_values('faculty_students_ratio', ascending = False)\n",
    "by_region_ratio1"
   ]
  },
  {
   "cell_type": "code",
   "execution_count": 62,
   "metadata": {},
   "outputs": [
    {
     "data": {
      "text/plain": [
       "<matplotlib.axes._subplots.AxesSubplot at 0x11a193128>"
      ]
     },
     "execution_count": 62,
     "metadata": {},
     "output_type": "execute_result"
    },
    {
     "data": {
      "image/png": "[encoded data removed]",
      "text/plain": [
       "<matplotlib.figure.Figure at 0x11a1b0fd0>"
      ]
     },
     "metadata": {},
     "output_type": "display_data"
    }
   ],
   "source": [
    "by_region_ratio1.drop(['faculty_international', 'faculty_total', 'students_international', 'students_total'], axis=1).plot.bar()"
   ]
  },
  {
   "cell_type": "markdown",
   "metadata": {},
   "source": [
    "When we group by region, we can see that in first place is Asia, and last Oceania. Now let's see what is the international student ratio."
   ]
  },
  {
   "cell_type": "code",
   "execution_count": 63,
   "metadata": {},
   "outputs": [
    {
     "data": {
      "text/html": [
       "<div>\n",
       "<style>\n",
       "    .dataframe thead tr:only-child th {\n",
       "        text-align: right;\n",
       "    }\n",
       "\n",
       "    .dataframe thead th {\n",
       "        text-align: left;\n",
       "    }\n",
       "\n",
       "    .dataframe tbody tr th {\n",
       "        vertical-align: top;\n",
       "    }\n",
       "</style>\n",
       "<table border=\"1\" class=\"dataframe\">\n",
       "  <thead>\n",
       "    <tr style=\"text-align: right;\">\n",
       "      <th></th>\n",
       "      <th>faculty_international</th>\n",
       "      <th>faculty_total</th>\n",
       "      <th>students_international</th>\n",
       "      <th>students_total</th>\n",
       "      <th>int_students_ratio</th>\n",
       "    </tr>\n",
       "    <tr>\n",
       "      <th>region</th>\n",
       "      <th></th>\n",
       "      <th></th>\n",
       "      <th></th>\n",
       "      <th></th>\n",
       "      <th></th>\n",
       "    </tr>\n",
       "  </thead>\n",
       "  <tbody>\n",
       "    <tr>\n",
       "      <th>Oceania</th>\n",
       "      <td>12786.0</td>\n",
       "      <td>25347.0</td>\n",
       "      <td>118798.0</td>\n",
       "      <td>350167.0</td>\n",
       "      <td>0.339261</td>\n",
       "    </tr>\n",
       "    <tr>\n",
       "      <th>Europe</th>\n",
       "      <td>67598.0</td>\n",
       "      <td>218358.0</td>\n",
       "      <td>449364.0</td>\n",
       "      <td>1957251.0</td>\n",
       "      <td>0.229589</td>\n",
       "    </tr>\n",
       "    <tr>\n",
       "      <th>North America</th>\n",
       "      <td>43836.0</td>\n",
       "      <td>182123.0</td>\n",
       "      <td>292116.0</td>\n",
       "      <td>1546353.0</td>\n",
       "      <td>0.188906</td>\n",
       "    </tr>\n",
       "    <tr>\n",
       "      <th>Africa</th>\n",
       "      <td>379.0</td>\n",
       "      <td>1733.0</td>\n",
       "      <td>3325.0</td>\n",
       "      <td>19593.0</td>\n",
       "      <td>0.169703</td>\n",
       "    </tr>\n",
       "    <tr>\n",
       "      <th>Asia</th>\n",
       "      <td>25462.0</td>\n",
       "      <td>106734.0</td>\n",
       "      <td>110100.0</td>\n",
       "      <td>807003.0</td>\n",
       "      <td>0.136431</td>\n",
       "    </tr>\n",
       "    <tr>\n",
       "      <th>Latin America</th>\n",
       "      <td>5648.0</td>\n",
       "      <td>45382.0</td>\n",
       "      <td>36871.0</td>\n",
       "      <td>435750.0</td>\n",
       "      <td>0.084615</td>\n",
       "    </tr>\n",
       "  </tbody>\n",
       "</table>\n",
       "</div>"
      ],
      "text/plain": [
       "               faculty_international  faculty_total  students_international  \\\n",
       "region                                                                        \n",
       "Oceania                      12786.0        25347.0                118798.0   \n",
       "Europe                       67598.0       218358.0                449364.0   \n",
       "North America                43836.0       182123.0                292116.0   \n",
       "Africa                         379.0         1733.0                  3325.0   \n",
       "Asia                         25462.0       106734.0                110100.0   \n",
       "Latin America                 5648.0        45382.0                 36871.0   \n",
       "\n",
       "               students_total  int_students_ratio  \n",
       "region                                             \n",
       "Oceania              350167.0            0.339261  \n",
       "Europe              1957251.0            0.229589  \n",
       "North America       1546353.0            0.188906  \n",
       "Africa                19593.0            0.169703  \n",
       "Asia                 807003.0            0.136431  \n",
       "Latin America        435750.0            0.084615  "
      ]
     },
     "execution_count": 63,
     "metadata": {},
     "output_type": "execute_result"
    }
   ],
   "source": [
    "by_region_ratio2 = by_region.assign(int_students_ratio = by_region['students_international']/by_region['students_total']).\\\n",
    "sort_values('int_students_ratio', ascending = False)\n",
    "by_region_ratio2"
   ]
  },
  {
   "cell_type": "code",
   "execution_count": 64,
   "metadata": {},
   "outputs": [
    {
     "data": {
      "text/plain": [
       "<matplotlib.axes._subplots.AxesSubplot at 0x11a5a6390>"
      ]
     },
     "execution_count": 64,
     "metadata": {},
     "output_type": "execute_result"
    },
    {
     "data": {
      "image/png": "[encoded data removed]",
      "text/plain": [
       "<matplotlib.figure.Figure at 0x11a4ae2b0>"
      ]
     },
     "metadata": {},
     "output_type": "display_data"
    }
   ],
   "source": [
    "by_region_ratio2.drop(['faculty_international', 'faculty_total', 'students_international', 'students_total'], axis=1).plot.bar()"
   ]
  },
  {
   "cell_type": "markdown",
   "metadata": {},
   "source": [
    "While the faculty members-student ratio in Oceania is lowest, it appears like they have the best ratio of international studnets."
   ]
  }
 ],
 "metadata": {
  "kernelspec": {
   "display_name": "Python 3",
   "language": "python",
   "name": "python3"
  },
  "language_info": {
   "codemirror_mode": {
    "name": "ipython",
    "version": 3
   },
   "file_extension": ".py",
   "mimetype": "text/x-python",
   "name": "python",
   "nbconvert_exporter": "python",
   "pygments_lexer": "ipython3",
   "version": "3.6.2"
  }
 },
 "nbformat": 4,
 "nbformat_minor": 2
}
